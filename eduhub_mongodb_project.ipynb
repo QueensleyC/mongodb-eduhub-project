{
 "cells": [
  {
   "cell_type": "markdown",
   "id": "07324f4e",
   "metadata": {},
   "source": [
    "## Part 1: Database Setup and Data Modeling"
   ]
  },
  {
   "cell_type": "code",
   "execution_count": 14,
   "id": "6b4e1813",
   "metadata": {},
   "outputs": [],
   "source": [
    "# Import necessary libraries and initialize Faker and MongoDB connection\n",
    "from pymongo import MongoClient\n",
    "from faker import Faker\n",
    "import random\n",
    "from datetime import datetime, timedelta\n",
    "\n",
    "fake = Faker()\n",
    "client = MongoClient('mongodb://localhost:27017/')\n",
    "db = client['eduhub_db']\n"
   ]
  },
  {
   "cell_type": "markdown",
   "id": "729f6dd7",
   "metadata": {},
   "source": [
    "## Part 2: Data Population"
   ]
  },
  {
   "cell_type": "code",
   "execution_count": 15,
   "id": "21aa2c84",
   "metadata": {},
   "outputs": [
    {
     "data": {
      "text/plain": [
       "InsertManyResult([ObjectId('6846bb46c419e2efd265de0c'), ObjectId('6846bb46c419e2efd265de0d'), ObjectId('6846bb46c419e2efd265de0e'), ObjectId('6846bb46c419e2efd265de0f'), ObjectId('6846bb46c419e2efd265de10'), ObjectId('6846bb46c419e2efd265de11'), ObjectId('6846bb46c419e2efd265de12'), ObjectId('6846bb46c419e2efd265de13'), ObjectId('6846bb46c419e2efd265de14'), ObjectId('6846bb46c419e2efd265de15'), ObjectId('6846bb46c419e2efd265de16'), ObjectId('6846bb46c419e2efd265de17'), ObjectId('6846bb46c419e2efd265de18'), ObjectId('6846bb46c419e2efd265de19'), ObjectId('6846bb46c419e2efd265de1a'), ObjectId('6846bb46c419e2efd265de1b'), ObjectId('6846bb46c419e2efd265de1c'), ObjectId('6846bb46c419e2efd265de1d'), ObjectId('6846bb46c419e2efd265de1e'), ObjectId('6846bb46c419e2efd265de1f'), ObjectId('6846bb46c419e2efd265de20'), ObjectId('6846bb46c419e2efd265de21'), ObjectId('6846bb46c419e2efd265de22'), ObjectId('6846bb46c419e2efd265de23'), ObjectId('6846bb46c419e2efd265de24')], acknowledged=True)"
      ]
     },
     "execution_count": 15,
     "metadata": {},
     "output_type": "execute_result"
    }
   ],
   "source": [
    "# Generate 25 users with a mix of roles (students and instructors)\n",
    "users = []\n",
    "for i in range(25):\n",
    "    role = random.choice([\"student\", \"instructor\"])\n",
    "    users.append({\n",
    "        \"userId\": f\"u{i+1:03}\",\n",
    "        \"email\": fake.unique.email(),\n",
    "        \"firstName\": fake.first_name(),\n",
    "        \"lastName\": fake.last_name(),\n",
    "        \"role\": role,\n",
    "        \"dateJoined\": fake.date_time_between(start_date='-2y', end_date='now'),\n",
    "        \"profile\": {\n",
    "            \"bio\": fake.sentence(),\n",
    "            \"avatar\": fake.image_url(),\n",
    "            \"skills\": random.sample([\"Python\", \"JavaScript\", \"MongoDB\", \"SQL\", \"Data Science\", \"Machine Learning\"], k=random.randint(1, 4))\n",
    "        },\n",
    "        \"isActive\": True\n",
    "    })\n",
    "\n",
    "db.users.insert_many(users)\n"
   ]
  },
  {
   "cell_type": "code",
   "execution_count": 16,
   "id": "25075a36",
   "metadata": {},
   "outputs": [
    {
     "data": {
      "text/plain": [
       "InsertManyResult([ObjectId('6846bb53c419e2efd265de25'), ObjectId('6846bb53c419e2efd265de26'), ObjectId('6846bb53c419e2efd265de27'), ObjectId('6846bb53c419e2efd265de28'), ObjectId('6846bb53c419e2efd265de29'), ObjectId('6846bb53c419e2efd265de2a'), ObjectId('6846bb53c419e2efd265de2b'), ObjectId('6846bb53c419e2efd265de2c')], acknowledged=True)"
      ]
     },
     "execution_count": 16,
     "metadata": {},
     "output_type": "execute_result"
    }
   ],
   "source": [
    "# Generate 8 courses, each assigned to a random instructor from users\n",
    "instructors = [u for u in users if u[\"role\"] == \"instructor\"]\n",
    "\n",
    "categories = [\"Programming\", \"Data Science\", \"Design\", \"Database\", \"Cybersecurity\"]\n",
    "levels = [\"beginner\", \"intermediate\", \"advanced\"]\n",
    "\n",
    "courses = []\n",
    "for i in range(8):\n",
    "    instructor = random.choice(instructors)\n",
    "    courses.append({\n",
    "        \"courseId\": f\"c{i+1:03}\",\n",
    "        \"title\": fake.sentence(nb_words=4),\n",
    "        \"description\": fake.paragraph(),\n",
    "        \"instructorId\": instructor[\"userId\"],\n",
    "        \"category\": random.choice(categories),\n",
    "        \"level\": random.choice(levels),\n",
    "        \"duration\": round(random.uniform(5, 40), 1),\n",
    "        \"price\": round(random.uniform(10, 100), 2),\n",
    "        \"tags\": random.sample([\"Python\", \"MongoDB\", \"Cloud\", \"UX\", \"Networks\"], k=2),\n",
    "        \"createdAt\": datetime.now(),\n",
    "        \"updatedAt\": datetime.now(),\n",
    "        \"isPublished\": random.choice([True, False])\n",
    "    })\n",
    "\n",
    "db.courses.insert_many(courses)\n"
   ]
  },
  {
   "cell_type": "code",
   "execution_count": 17,
   "id": "c8c41f91",
   "metadata": {},
   "outputs": [
    {
     "data": {
      "text/plain": [
       "InsertManyResult([ObjectId('6846bb60c419e2efd265de2d'), ObjectId('6846bb60c419e2efd265de2e'), ObjectId('6846bb60c419e2efd265de2f'), ObjectId('6846bb60c419e2efd265de30'), ObjectId('6846bb60c419e2efd265de31'), ObjectId('6846bb60c419e2efd265de32'), ObjectId('6846bb60c419e2efd265de33'), ObjectId('6846bb60c419e2efd265de34'), ObjectId('6846bb60c419e2efd265de35'), ObjectId('6846bb60c419e2efd265de36'), ObjectId('6846bb60c419e2efd265de37'), ObjectId('6846bb60c419e2efd265de38'), ObjectId('6846bb60c419e2efd265de39'), ObjectId('6846bb60c419e2efd265de3a'), ObjectId('6846bb60c419e2efd265de3b')], acknowledged=True)"
      ]
     },
     "execution_count": 17,
     "metadata": {},
     "output_type": "execute_result"
    }
   ],
   "source": [
    "# Generate 15 enrollments linking students to courses with progress info\n",
    "students = [u for u in users if u[\"role\"] == \"student\"]\n",
    "\n",
    "enrollments = []\n",
    "for i in range(15):\n",
    "    student = random.choice(students)\n",
    "    course = random.choice(courses)\n",
    "    enrollments.append({\n",
    "        \"enrollmentId\": f\"e{i+1:03}\",\n",
    "        \"studentId\": student[\"userId\"],\n",
    "        \"courseId\": course[\"courseId\"],\n",
    "        \"enrolledAt\": fake.date_time_between(start_date='-1y', end_date='now'),\n",
    "        \"progress\": round(random.uniform(0, 100), 2),\n",
    "        \"completed\": random.choice([True, False])\n",
    "    })\n",
    "\n",
    "db.enrollments.insert_many(enrollments)\n"
   ]
  },
  {
   "cell_type": "code",
   "execution_count": 18,
   "id": "66753e7a",
   "metadata": {},
   "outputs": [
    {
     "data": {
      "text/plain": [
       "InsertManyResult([ObjectId('6846bb6cc419e2efd265de3c'), ObjectId('6846bb6cc419e2efd265de3d'), ObjectId('6846bb6cc419e2efd265de3e'), ObjectId('6846bb6cc419e2efd265de3f'), ObjectId('6846bb6cc419e2efd265de40'), ObjectId('6846bb6cc419e2efd265de41'), ObjectId('6846bb6cc419e2efd265de42'), ObjectId('6846bb6cc419e2efd265de43'), ObjectId('6846bb6cc419e2efd265de44'), ObjectId('6846bb6cc419e2efd265de45'), ObjectId('6846bb6cc419e2efd265de46'), ObjectId('6846bb6cc419e2efd265de47'), ObjectId('6846bb6cc419e2efd265de48'), ObjectId('6846bb6cc419e2efd265de49'), ObjectId('6846bb6cc419e2efd265de4a'), ObjectId('6846bb6cc419e2efd265de4b'), ObjectId('6846bb6cc419e2efd265de4c'), ObjectId('6846bb6cc419e2efd265de4d'), ObjectId('6846bb6cc419e2efd265de4e'), ObjectId('6846bb6cc419e2efd265de4f'), ObjectId('6846bb6cc419e2efd265de50'), ObjectId('6846bb6cc419e2efd265de51'), ObjectId('6846bb6cc419e2efd265de52'), ObjectId('6846bb6cc419e2efd265de53'), ObjectId('6846bb6cc419e2efd265de54')], acknowledged=True)"
      ]
     },
     "execution_count": 18,
     "metadata": {},
     "output_type": "execute_result"
    }
   ],
   "source": [
    "# Generate 25 lessons assigned randomly to courses\n",
    "lessons = []\n",
    "for i in range(25):\n",
    "    course = random.choice(courses)\n",
    "    lessons.append({\n",
    "        \"lessonId\": f\"l{i+1:03}\",\n",
    "        \"courseId\": course[\"courseId\"],\n",
    "        \"title\": fake.sentence(nb_words=5),\n",
    "        \"content\": fake.paragraph(nb_sentences=3),\n",
    "        \"videoUrl\": fake.url(),\n",
    "        \"duration\": round(random.uniform(5, 30), 2),  # duration in minutes\n",
    "        \"order\": random.randint(1, 10)\n",
    "    })\n",
    "\n",
    "db.lessons.insert_many(lessons)\n"
   ]
  },
  {
   "cell_type": "code",
   "execution_count": 19,
   "id": "d7936004",
   "metadata": {},
   "outputs": [
    {
     "data": {
      "text/plain": [
       "InsertManyResult([ObjectId('6846bb76c419e2efd265de55'), ObjectId('6846bb76c419e2efd265de56'), ObjectId('6846bb76c419e2efd265de57'), ObjectId('6846bb76c419e2efd265de58'), ObjectId('6846bb76c419e2efd265de59'), ObjectId('6846bb76c419e2efd265de5a'), ObjectId('6846bb76c419e2efd265de5b'), ObjectId('6846bb76c419e2efd265de5c'), ObjectId('6846bb76c419e2efd265de5d'), ObjectId('6846bb76c419e2efd265de5e')], acknowledged=True)"
      ]
     },
     "execution_count": 19,
     "metadata": {},
     "output_type": "execute_result"
    }
   ],
   "source": [
    "# Generate 10 assignments linked to random courses with due dates\n",
    "assignments = []\n",
    "for i in range(10):\n",
    "    course = random.choice(courses)\n",
    "    assignments.append({\n",
    "        \"assignmentId\": f\"a{i+1:03}\",\n",
    "        \"courseId\": course[\"courseId\"],\n",
    "        \"title\": fake.sentence(),\n",
    "        \"description\": fake.paragraph(),\n",
    "        \"dueDate\": datetime.now() + timedelta(days=random.randint(5, 20))\n",
    "    })\n",
    "\n",
    "db.assignments.insert_many(assignments)\n"
   ]
  },
  {
   "cell_type": "code",
   "execution_count": 20,
   "id": "35a7b5ac",
   "metadata": {},
   "outputs": [
    {
     "data": {
      "text/plain": [
       "InsertManyResult([ObjectId('6846bb7ec419e2efd265de5f'), ObjectId('6846bb7ec419e2efd265de60'), ObjectId('6846bb7ec419e2efd265de61'), ObjectId('6846bb7ec419e2efd265de62'), ObjectId('6846bb7ec419e2efd265de63'), ObjectId('6846bb7ec419e2efd265de64'), ObjectId('6846bb7ec419e2efd265de65'), ObjectId('6846bb7ec419e2efd265de66'), ObjectId('6846bb7ec419e2efd265de67'), ObjectId('6846bb7ec419e2efd265de68'), ObjectId('6846bb7ec419e2efd265de69'), ObjectId('6846bb7ec419e2efd265de6a')], acknowledged=True)"
      ]
     },
     "execution_count": 20,
     "metadata": {},
     "output_type": "execute_result"
    }
   ],
   "source": [
    "# Generate 12 assignment submissions by students with grades\n",
    "submissions = []\n",
    "for i in range(12):\n",
    "    assignment = random.choice(assignments)\n",
    "    student = random.choice(students)\n",
    "    submissions.append({\n",
    "        \"submissionId\": f\"s{i+1:03}\",\n",
    "        \"assignmentId\": assignment[\"assignmentId\"],\n",
    "        \"studentId\": student[\"userId\"],\n",
    "        \"submittedAt\": datetime.now() - timedelta(days=random.randint(0, 10)),\n",
    "        \"content\": fake.text(),\n",
    "        \"grade\": round(random.uniform(0, 100), 2)\n",
    "    })\n",
    "\n",
    "db.submissions.insert_many(submissions)\n"
   ]
  },
  {
   "cell_type": "markdown",
   "id": "a8feb3ae",
   "metadata": {},
   "source": [
    "## Part 3: Basic CRUD Operations"
   ]
  },
  {
   "cell_type": "markdown",
   "id": "64671808",
   "metadata": {},
   "source": [
    "### Task 3.1: Create Operations"
   ]
  },
  {
   "cell_type": "code",
   "execution_count": null,
   "id": "5a422a07",
   "metadata": {},
   "outputs": [],
   "source": [
    "# Add a new student user to the 'users' collection\n",
    "new_student = {\n",
    "    \"userId\": \"u026\",  # Ensure this is unique\n",
    "    \"email\": \"newstudent@example.com\",\n",
    "    \"firstName\": \"Alice\",\n",
    "    \"lastName\": \"Johnson\",\n",
    "    \"role\": \"student\",\n",
    "    \"dateJoined\": datetime.now(),\n",
    "    \"profile\": {\n",
    "        \"bio\": \"Eager learner of data science.\",\n",
    "        \"avatar\": \"http://example.com/avatar.jpg\",\n",
    "        \"skills\": [\"Python\", \"Statistics\"]\n",
    "    },\n",
    "    \"isActive\": True\n",
    "}\n",
    "\n",
    "db.users.insert_one(new_student)\n"
   ]
  },
  {
   "cell_type": "code",
   "execution_count": null,
   "id": "a18f3f8b",
   "metadata": {},
   "outputs": [],
   "source": [
    "# Create a new course in the 'courses' collection\n",
    "new_course = {\n",
    "    \"courseId\": \"c009\",  # Ensure this is unique\n",
    "    \"title\": \"Introduction to AI\",\n",
    "    \"description\": \"Learn the basics of Artificial Intelligence.\",\n",
    "    \"instructorId\": \"u005\",  # Must be an existing instructor userId\n",
    "    \"category\": \"Data Science\",\n",
    "    \"level\": \"beginner\",\n",
    "    \"duration\": 20,\n",
    "    \"price\": 49.99,\n",
    "    \"tags\": [\"AI\", \"Machine Learning\"],\n",
    "    \"createdAt\": datetime.now(),\n",
    "    \"updatedAt\": datetime.now(),\n",
    "    \"isPublished\": False\n",
    "}\n",
    "\n",
    "db.courses.insert_one(new_course)\n"
   ]
  },
  {
   "cell_type": "code",
   "execution_count": null,
   "id": "228b6fa8",
   "metadata": {},
   "outputs": [],
   "source": [
    "# Enroll a student in a course by adding a document to the 'enrollments' collection\n",
    "new_enrollment = {\n",
    "    \"enrollmentId\": \"e016\",  # Ensure this is unique\n",
    "    \"studentId\": \"u026\",  # New student userId\n",
    "    \"courseId\": \"c009\",  # Newly created courseId\n",
    "    \"enrolledAt\": datetime.now(),\n",
    "    \"progress\": 0.0,\n",
    "    \"completed\": False\n",
    "}\n",
    "\n",
    "db.enrollments.insert_one(new_enrollment)\n"
   ]
  },
  {
   "cell_type": "code",
   "execution_count": null,
   "id": "ab2ccf85",
   "metadata": {},
   "outputs": [],
   "source": [
    "# Add a new lesson to an existing course in the 'lessons' collection\n",
    "new_lesson = {\n",
    "    \"lessonId\": \"l026\",  # Ensure this is unique\n",
    "    \"courseId\": \"c009\",  # Course to which lesson belongs\n",
    "    \"title\": \"What is Artificial Intelligence?\",\n",
    "    \"content\": \"This lesson covers the definition and history of AI.\",\n",
    "    \"videoUrl\": \"http://example.com/lesson1video.mp4\",\n",
    "    \"duration\": 15.0,  # Duration in minutes\n",
    "    \"order\": 1  # Order within the course lessons\n",
    "}\n",
    "\n",
    "db.lessons.insert_one(new_lesson)\n"
   ]
  },
  {
   "cell_type": "code",
   "execution_count": null,
   "id": "a47b9965",
   "metadata": {},
   "outputs": [],
   "source": []
  },
  {
   "cell_type": "code",
   "execution_count": null,
   "id": "113c0868",
   "metadata": {},
   "outputs": [],
   "source": []
  },
  {
   "cell_type": "code",
   "execution_count": null,
   "id": "cc9e1c8f",
   "metadata": {},
   "outputs": [],
   "source": []
  },
  {
   "cell_type": "code",
   "execution_count": null,
   "id": "3126b570",
   "metadata": {},
   "outputs": [],
   "source": []
  },
  {
   "cell_type": "code",
   "execution_count": null,
   "id": "827698c3",
   "metadata": {},
   "outputs": [],
   "source": []
  },
  {
   "cell_type": "code",
   "execution_count": null,
   "id": "f7db75dc",
   "metadata": {},
   "outputs": [],
   "source": []
  },
  {
   "cell_type": "code",
   "execution_count": null,
   "id": "e69b421b",
   "metadata": {},
   "outputs": [],
   "source": []
  },
  {
   "cell_type": "code",
   "execution_count": null,
   "id": "65956d1a",
   "metadata": {},
   "outputs": [],
   "source": []
  },
  {
   "cell_type": "code",
   "execution_count": null,
   "id": "32f89431",
   "metadata": {},
   "outputs": [],
   "source": []
  },
  {
   "cell_type": "code",
   "execution_count": null,
   "id": "30d11d30",
   "metadata": {},
   "outputs": [],
   "source": []
  },
  {
   "cell_type": "code",
   "execution_count": null,
   "id": "1b92420a",
   "metadata": {},
   "outputs": [],
   "source": []
  },
  {
   "cell_type": "code",
   "execution_count": null,
   "id": "d78d11bf",
   "metadata": {},
   "outputs": [],
   "source": []
  },
  {
   "cell_type": "code",
   "execution_count": null,
   "id": "95837c2f",
   "metadata": {},
   "outputs": [],
   "source": []
  },
  {
   "cell_type": "code",
   "execution_count": null,
   "id": "1c75da12",
   "metadata": {},
   "outputs": [],
   "source": []
  },
  {
   "cell_type": "code",
   "execution_count": null,
   "id": "41917cf5",
   "metadata": {},
   "outputs": [],
   "source": []
  },
  {
   "cell_type": "code",
   "execution_count": null,
   "id": "930fa1a6",
   "metadata": {},
   "outputs": [],
   "source": []
  },
  {
   "cell_type": "code",
   "execution_count": null,
   "id": "509418f2",
   "metadata": {},
   "outputs": [],
   "source": []
  },
  {
   "cell_type": "code",
   "execution_count": null,
   "id": "6ea318d8",
   "metadata": {},
   "outputs": [],
   "source": []
  },
  {
   "cell_type": "code",
   "execution_count": null,
   "id": "861ca3c2",
   "metadata": {},
   "outputs": [],
   "source": []
  },
  {
   "cell_type": "code",
   "execution_count": null,
   "id": "21cde9b3",
   "metadata": {},
   "outputs": [],
   "source": []
  },
  {
   "cell_type": "code",
   "execution_count": null,
   "id": "b6e65b03",
   "metadata": {},
   "outputs": [],
   "source": []
  },
  {
   "cell_type": "code",
   "execution_count": null,
   "id": "12a6730d",
   "metadata": {},
   "outputs": [],
   "source": []
  },
  {
   "cell_type": "code",
   "execution_count": null,
   "id": "8357e9d0",
   "metadata": {},
   "outputs": [],
   "source": []
  },
  {
   "cell_type": "code",
   "execution_count": null,
   "id": "15f21035",
   "metadata": {},
   "outputs": [],
   "source": []
  },
  {
   "cell_type": "code",
   "execution_count": null,
   "id": "dfe78f93",
   "metadata": {},
   "outputs": [],
   "source": []
  },
  {
   "cell_type": "code",
   "execution_count": null,
   "id": "153a3002",
   "metadata": {},
   "outputs": [],
   "source": []
  },
  {
   "cell_type": "code",
   "execution_count": null,
   "id": "68911e58",
   "metadata": {},
   "outputs": [],
   "source": []
  },
  {
   "cell_type": "code",
   "execution_count": null,
   "id": "b5faf1c2",
   "metadata": {},
   "outputs": [],
   "source": []
  },
  {
   "cell_type": "code",
   "execution_count": null,
   "id": "edb6c676",
   "metadata": {},
   "outputs": [],
   "source": []
  },
  {
   "cell_type": "code",
   "execution_count": null,
   "id": "6c407efa",
   "metadata": {},
   "outputs": [],
   "source": []
  },
  {
   "cell_type": "code",
   "execution_count": null,
   "id": "a12518cf",
   "metadata": {},
   "outputs": [],
   "source": []
  },
  {
   "cell_type": "code",
   "execution_count": null,
   "id": "66ca6bd3",
   "metadata": {},
   "outputs": [],
   "source": []
  },
  {
   "cell_type": "code",
   "execution_count": null,
   "id": "b667ace0",
   "metadata": {},
   "outputs": [],
   "source": []
  },
  {
   "cell_type": "code",
   "execution_count": null,
   "id": "9783b19f",
   "metadata": {},
   "outputs": [],
   "source": []
  },
  {
   "cell_type": "code",
   "execution_count": null,
   "id": "4ed2fa9d",
   "metadata": {},
   "outputs": [],
   "source": []
  },
  {
   "cell_type": "code",
   "execution_count": null,
   "id": "f5e70968",
   "metadata": {},
   "outputs": [],
   "source": []
  },
  {
   "cell_type": "code",
   "execution_count": null,
   "id": "ad9d576e",
   "metadata": {},
   "outputs": [],
   "source": []
  },
  {
   "cell_type": "code",
   "execution_count": null,
   "id": "431584f4",
   "metadata": {},
   "outputs": [],
   "source": []
  },
  {
   "cell_type": "code",
   "execution_count": null,
   "id": "405c00e8",
   "metadata": {},
   "outputs": [],
   "source": []
  },
  {
   "cell_type": "code",
   "execution_count": null,
   "id": "3d9f7931",
   "metadata": {},
   "outputs": [],
   "source": []
  },
  {
   "cell_type": "code",
   "execution_count": null,
   "id": "50246f13",
   "metadata": {},
   "outputs": [],
   "source": []
  },
  {
   "cell_type": "code",
   "execution_count": null,
   "id": "ca452efb",
   "metadata": {},
   "outputs": [],
   "source": []
  },
  {
   "cell_type": "code",
   "execution_count": null,
   "id": "6062a91d",
   "metadata": {},
   "outputs": [],
   "source": []
  },
  {
   "cell_type": "code",
   "execution_count": null,
   "id": "a00a47b8",
   "metadata": {},
   "outputs": [],
   "source": []
  },
  {
   "cell_type": "code",
   "execution_count": null,
   "id": "48c5c970",
   "metadata": {},
   "outputs": [],
   "source": []
  },
  {
   "cell_type": "code",
   "execution_count": null,
   "id": "3c42a9f5",
   "metadata": {},
   "outputs": [],
   "source": []
  },
  {
   "cell_type": "code",
   "execution_count": null,
   "id": "f5a02286",
   "metadata": {},
   "outputs": [],
   "source": []
  },
  {
   "cell_type": "code",
   "execution_count": null,
   "id": "0c57e8cf",
   "metadata": {},
   "outputs": [],
   "source": []
  },
  {
   "cell_type": "code",
   "execution_count": null,
   "id": "4641adcd",
   "metadata": {},
   "outputs": [],
   "source": []
  },
  {
   "cell_type": "code",
   "execution_count": null,
   "id": "f6cbfd27",
   "metadata": {},
   "outputs": [],
   "source": []
  },
  {
   "cell_type": "code",
   "execution_count": null,
   "id": "4e6851a9",
   "metadata": {},
   "outputs": [],
   "source": []
  },
  {
   "cell_type": "code",
   "execution_count": null,
   "id": "c0a19eab",
   "metadata": {},
   "outputs": [],
   "source": []
  },
  {
   "cell_type": "code",
   "execution_count": null,
   "id": "413404d5",
   "metadata": {},
   "outputs": [],
   "source": []
  },
  {
   "cell_type": "code",
   "execution_count": null,
   "id": "fa6dbafb",
   "metadata": {},
   "outputs": [],
   "source": []
  },
  {
   "cell_type": "code",
   "execution_count": null,
   "id": "085f6522",
   "metadata": {},
   "outputs": [],
   "source": []
  },
  {
   "cell_type": "code",
   "execution_count": null,
   "id": "a488e722",
   "metadata": {},
   "outputs": [],
   "source": []
  },
  {
   "cell_type": "code",
   "execution_count": null,
   "id": "9f2e6348",
   "metadata": {},
   "outputs": [],
   "source": []
  },
  {
   "cell_type": "code",
   "execution_count": null,
   "id": "14813e69",
   "metadata": {},
   "outputs": [],
   "source": []
  },
  {
   "cell_type": "code",
   "execution_count": null,
   "id": "ee32c2d6",
   "metadata": {},
   "outputs": [],
   "source": []
  },
  {
   "cell_type": "code",
   "execution_count": null,
   "id": "13f48749",
   "metadata": {},
   "outputs": [],
   "source": []
  },
  {
   "cell_type": "code",
   "execution_count": null,
   "id": "75492b01",
   "metadata": {},
   "outputs": [],
   "source": []
  },
  {
   "cell_type": "code",
   "execution_count": null,
   "id": "60f55b1b",
   "metadata": {},
   "outputs": [],
   "source": []
  },
  {
   "cell_type": "code",
   "execution_count": null,
   "id": "021a5d41",
   "metadata": {},
   "outputs": [],
   "source": []
  },
  {
   "cell_type": "code",
   "execution_count": null,
   "id": "88149b79",
   "metadata": {},
   "outputs": [],
   "source": []
  },
  {
   "cell_type": "code",
   "execution_count": null,
   "id": "2779d818",
   "metadata": {},
   "outputs": [],
   "source": []
  },
  {
   "cell_type": "code",
   "execution_count": null,
   "id": "48e2942a",
   "metadata": {},
   "outputs": [],
   "source": []
  },
  {
   "cell_type": "code",
   "execution_count": null,
   "id": "b31e6e48",
   "metadata": {},
   "outputs": [],
   "source": []
  },
  {
   "cell_type": "code",
   "execution_count": null,
   "id": "e4e1f1ff",
   "metadata": {},
   "outputs": [],
   "source": []
  },
  {
   "cell_type": "code",
   "execution_count": null,
   "id": "ba16e00f",
   "metadata": {},
   "outputs": [],
   "source": []
  },
  {
   "cell_type": "code",
   "execution_count": null,
   "id": "c98b4603",
   "metadata": {},
   "outputs": [],
   "source": []
  },
  {
   "cell_type": "code",
   "execution_count": null,
   "id": "e717a112",
   "metadata": {},
   "outputs": [],
   "source": []
  },
  {
   "cell_type": "code",
   "execution_count": null,
   "id": "e9f7f1ae",
   "metadata": {},
   "outputs": [],
   "source": []
  },
  {
   "cell_type": "code",
   "execution_count": null,
   "id": "ef7f6d69",
   "metadata": {},
   "outputs": [],
   "source": []
  },
  {
   "cell_type": "code",
   "execution_count": null,
   "id": "198091c8",
   "metadata": {},
   "outputs": [],
   "source": []
  },
  {
   "cell_type": "code",
   "execution_count": null,
   "id": "6a2d62a8",
   "metadata": {},
   "outputs": [],
   "source": []
  },
  {
   "cell_type": "code",
   "execution_count": null,
   "id": "f01b5fb8",
   "metadata": {},
   "outputs": [],
   "source": []
  },
  {
   "cell_type": "code",
   "execution_count": null,
   "id": "ffe63473",
   "metadata": {},
   "outputs": [],
   "source": []
  },
  {
   "cell_type": "code",
   "execution_count": null,
   "id": "c7752c2e",
   "metadata": {},
   "outputs": [],
   "source": []
  },
  {
   "cell_type": "code",
   "execution_count": null,
   "id": "cb0d6cc1",
   "metadata": {},
   "outputs": [],
   "source": []
  },
  {
   "cell_type": "code",
   "execution_count": null,
   "id": "cfcc9a25",
   "metadata": {},
   "outputs": [],
   "source": []
  },
  {
   "cell_type": "code",
   "execution_count": null,
   "id": "94f6054a",
   "metadata": {},
   "outputs": [],
   "source": []
  },
  {
   "cell_type": "code",
   "execution_count": null,
   "id": "886afb78",
   "metadata": {},
   "outputs": [],
   "source": []
  },
  {
   "cell_type": "code",
   "execution_count": null,
   "id": "edfcaf25",
   "metadata": {},
   "outputs": [],
   "source": []
  },
  {
   "cell_type": "code",
   "execution_count": null,
   "id": "2791f7b6",
   "metadata": {},
   "outputs": [],
   "source": []
  },
  {
   "cell_type": "code",
   "execution_count": null,
   "id": "262c79ab",
   "metadata": {},
   "outputs": [],
   "source": []
  }
 ],
 "metadata": {
  "language_info": {
   "name": "python"
  }
 },
 "nbformat": 4,
 "nbformat_minor": 5
}
