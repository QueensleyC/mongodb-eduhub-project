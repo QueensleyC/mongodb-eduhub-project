{
 "cells": [
  {
   "cell_type": "markdown",
   "id": "07324f4e",
   "metadata": {},
   "source": [
    "## Part 1: Database Setup and Data Modeling"
   ]
  },
  {
   "cell_type": "code",
   "execution_count": 90,
   "id": "6b4e1813",
   "metadata": {},
   "outputs": [],
   "source": [
    "# Import necessary libraries and initialize Faker and MongoDB connection\n",
    "from pymongo import MongoClient\n",
    "from faker import Faker\n",
    "import random\n",
    "from datetime import datetime, timedelta\n",
    "\n",
    "fake = Faker()\n",
    "client = MongoClient('mongodb://localhost:27017/')\n",
    "db = client['eduhub_db']\n"
   ]
  },
  {
   "cell_type": "markdown",
   "id": "729f6dd7",
   "metadata": {},
   "source": [
    "## Part 2: Data Population"
   ]
  },
  {
   "cell_type": "code",
   "execution_count": 91,
   "id": "21aa2c84",
   "metadata": {},
   "outputs": [
    {
     "data": {
      "text/plain": [
       "InsertManyResult([ObjectId('6848127bc419e2efd265decf'), ObjectId('6848127bc419e2efd265ded0'), ObjectId('6848127bc419e2efd265ded1'), ObjectId('6848127bc419e2efd265ded2'), ObjectId('6848127bc419e2efd265ded3'), ObjectId('6848127bc419e2efd265ded4'), ObjectId('6848127bc419e2efd265ded5'), ObjectId('6848127bc419e2efd265ded6'), ObjectId('6848127bc419e2efd265ded7'), ObjectId('6848127bc419e2efd265ded8'), ObjectId('6848127bc419e2efd265ded9'), ObjectId('6848127bc419e2efd265deda'), ObjectId('6848127bc419e2efd265dedb'), ObjectId('6848127bc419e2efd265dedc'), ObjectId('6848127bc419e2efd265dedd'), ObjectId('6848127bc419e2efd265dede'), ObjectId('6848127bc419e2efd265dedf'), ObjectId('6848127bc419e2efd265dee0'), ObjectId('6848127bc419e2efd265dee1'), ObjectId('6848127bc419e2efd265dee2'), ObjectId('6848127bc419e2efd265dee3'), ObjectId('6848127bc419e2efd265dee4'), ObjectId('6848127bc419e2efd265dee5'), ObjectId('6848127bc419e2efd265dee6'), ObjectId('6848127bc419e2efd265dee7')], acknowledged=True)"
      ]
     },
     "execution_count": 91,
     "metadata": {},
     "output_type": "execute_result"
    }
   ],
   "source": [
    "# Generate 25 users with a mix of roles (students and instructors)\n",
    "users = []\n",
    "for i in range(25):\n",
    "    role = random.choice([\"student\", \"instructor\"])\n",
    "    users.append({\n",
    "        \"userId\": f\"u{i+1:03}\",\n",
    "        \"email\": fake.unique.email(),\n",
    "        \"firstName\": fake.first_name(),\n",
    "        \"lastName\": fake.last_name(),\n",
    "        \"role\": role,\n",
    "        \"dateJoined\": fake.date_time_between(start_date='-2y', end_date='now'),\n",
    "        \"profile\": {\n",
    "            \"bio\": fake.sentence(),\n",
    "            \"avatar\": fake.image_url(),\n",
    "            \"skills\": random.sample([\"Python\", \"JavaScript\", \"MongoDB\", \"SQL\", \"Data Science\", \"Machine Learning\"], k=random.randint(1, 4))\n",
    "        },\n",
    "        \"isActive\": True\n",
    "    })\n",
    "\n",
    "db.users.insert_many(users)\n"
   ]
  },
  {
   "cell_type": "code",
   "execution_count": 92,
   "id": "25075a36",
   "metadata": {},
   "outputs": [
    {
     "data": {
      "text/plain": [
       "InsertManyResult([ObjectId('6848127bc419e2efd265dee8'), ObjectId('6848127bc419e2efd265dee9'), ObjectId('6848127bc419e2efd265deea'), ObjectId('6848127bc419e2efd265deeb'), ObjectId('6848127bc419e2efd265deec'), ObjectId('6848127bc419e2efd265deed'), ObjectId('6848127bc419e2efd265deee'), ObjectId('6848127bc419e2efd265deef')], acknowledged=True)"
      ]
     },
     "execution_count": 92,
     "metadata": {},
     "output_type": "execute_result"
    }
   ],
   "source": [
    "# Generate 8 courses, each assigned to a random instructor from users\n",
    "instructors = [u for u in users if u[\"role\"] == \"instructor\"]\n",
    "\n",
    "categories = [\"Programming\", \"Data Science\", \"Design\", \"Database\", \"Cybersecurity\"]\n",
    "levels = [\"beginner\", \"intermediate\", \"advanced\"]\n",
    "\n",
    "courses = []\n",
    "for i in range(8):\n",
    "    instructor = random.choice(instructors)\n",
    "    courses.append({\n",
    "        \"courseId\": f\"c{i+1:03}\",\n",
    "        \"title\": fake.sentence(nb_words=4),\n",
    "        \"description\": fake.paragraph(),\n",
    "        \"instructorId\": instructor[\"userId\"],\n",
    "        \"category\": random.choice(categories),\n",
    "        \"level\": random.choice(levels),\n",
    "        \"duration\": round(random.uniform(5, 40), 1),\n",
    "        \"price\": round(random.uniform(10, 100), 2),\n",
    "        \"tags\": random.sample([\"Python\", \"MongoDB\", \"Cloud\", \"UX\", \"Networks\"], k=2),\n",
    "        \"createdAt\": datetime.now(),\n",
    "        \"updatedAt\": datetime.now(),\n",
    "        \"isPublished\": random.choice([True, False])\n",
    "    })\n",
    "\n",
    "db.courses.insert_many(courses)\n"
   ]
  },
  {
   "cell_type": "code",
   "execution_count": 93,
   "id": "c8c41f91",
   "metadata": {},
   "outputs": [
    {
     "data": {
      "text/plain": [
       "InsertManyResult([ObjectId('6848127bc419e2efd265def0'), ObjectId('6848127bc419e2efd265def1'), ObjectId('6848127bc419e2efd265def2'), ObjectId('6848127bc419e2efd265def3'), ObjectId('6848127bc419e2efd265def4'), ObjectId('6848127bc419e2efd265def5'), ObjectId('6848127bc419e2efd265def6'), ObjectId('6848127bc419e2efd265def7'), ObjectId('6848127bc419e2efd265def8'), ObjectId('6848127bc419e2efd265def9'), ObjectId('6848127bc419e2efd265defa'), ObjectId('6848127bc419e2efd265defb'), ObjectId('6848127bc419e2efd265defc'), ObjectId('6848127bc419e2efd265defd'), ObjectId('6848127bc419e2efd265defe')], acknowledged=True)"
      ]
     },
     "execution_count": 93,
     "metadata": {},
     "output_type": "execute_result"
    }
   ],
   "source": [
    "# Generate 15 enrollments linking students to courses with progress info\n",
    "students = [u for u in users if u[\"role\"] == \"student\"]\n",
    "\n",
    "enrollments = []\n",
    "for i in range(15):\n",
    "    student = random.choice(students)\n",
    "    course = random.choice(courses)\n",
    "    enrollments.append({\n",
    "        \"enrollmentId\": f\"e{i+1:03}\",\n",
    "        \"studentId\": student[\"userId\"],\n",
    "        \"courseId\": course[\"courseId\"],\n",
    "        \"enrolledAt\": fake.date_time_between(start_date='-1y', end_date='now'),\n",
    "        \"progress\": round(random.uniform(0, 100), 2),\n",
    "        \"completed\": random.choice([True, False])\n",
    "    })\n",
    "\n",
    "db.enrollments.insert_many(enrollments)\n"
   ]
  },
  {
   "cell_type": "code",
   "execution_count": 94,
   "id": "66753e7a",
   "metadata": {},
   "outputs": [
    {
     "data": {
      "text/plain": [
       "InsertManyResult([ObjectId('6848127bc419e2efd265deff'), ObjectId('6848127bc419e2efd265df00'), ObjectId('6848127bc419e2efd265df01'), ObjectId('6848127bc419e2efd265df02'), ObjectId('6848127bc419e2efd265df03'), ObjectId('6848127bc419e2efd265df04'), ObjectId('6848127bc419e2efd265df05'), ObjectId('6848127bc419e2efd265df06'), ObjectId('6848127bc419e2efd265df07'), ObjectId('6848127bc419e2efd265df08'), ObjectId('6848127bc419e2efd265df09'), ObjectId('6848127bc419e2efd265df0a'), ObjectId('6848127bc419e2efd265df0b'), ObjectId('6848127bc419e2efd265df0c'), ObjectId('6848127bc419e2efd265df0d'), ObjectId('6848127bc419e2efd265df0e'), ObjectId('6848127bc419e2efd265df0f'), ObjectId('6848127bc419e2efd265df10'), ObjectId('6848127bc419e2efd265df11'), ObjectId('6848127bc419e2efd265df12'), ObjectId('6848127bc419e2efd265df13'), ObjectId('6848127bc419e2efd265df14'), ObjectId('6848127bc419e2efd265df15'), ObjectId('6848127bc419e2efd265df16'), ObjectId('6848127bc419e2efd265df17')], acknowledged=True)"
      ]
     },
     "execution_count": 94,
     "metadata": {},
     "output_type": "execute_result"
    }
   ],
   "source": [
    "# Generate 25 lessons assigned randomly to courses\n",
    "lessons = []\n",
    "for i in range(25):\n",
    "    course = random.choice(courses)\n",
    "    lessons.append({\n",
    "        \"lessonId\": f\"l{i+1:03}\",\n",
    "        \"courseId\": course[\"courseId\"],\n",
    "        \"title\": fake.sentence(nb_words=5),\n",
    "        \"content\": fake.paragraph(nb_sentences=3),\n",
    "        \"videoUrl\": fake.url(),\n",
    "        \"duration\": round(random.uniform(5, 30), 2),  # duration in minutes\n",
    "        \"order\": random.randint(1, 10)\n",
    "    })\n",
    "\n",
    "db.lessons.insert_many(lessons)\n"
   ]
  },
  {
   "cell_type": "code",
   "execution_count": 95,
   "id": "d7936004",
   "metadata": {},
   "outputs": [
    {
     "data": {
      "text/plain": [
       "InsertManyResult([ObjectId('6848127bc419e2efd265df18'), ObjectId('6848127bc419e2efd265df19'), ObjectId('6848127bc419e2efd265df1a'), ObjectId('6848127bc419e2efd265df1b'), ObjectId('6848127bc419e2efd265df1c'), ObjectId('6848127bc419e2efd265df1d'), ObjectId('6848127bc419e2efd265df1e'), ObjectId('6848127bc419e2efd265df1f'), ObjectId('6848127bc419e2efd265df20'), ObjectId('6848127bc419e2efd265df21')], acknowledged=True)"
      ]
     },
     "execution_count": 95,
     "metadata": {},
     "output_type": "execute_result"
    }
   ],
   "source": [
    "# Generate 10 assignments linked to random courses with due dates\n",
    "assignments = []\n",
    "for i in range(10):\n",
    "    course = random.choice(courses)\n",
    "    assignments.append({\n",
    "        \"assignmentId\": f\"a{i+1:03}\",\n",
    "        \"courseId\": course[\"courseId\"],\n",
    "        \"title\": fake.sentence(),\n",
    "        \"description\": fake.paragraph(),\n",
    "        \"dueDate\": datetime.now() + timedelta(days=random.randint(5, 20))\n",
    "    })\n",
    "\n",
    "db.assignments.insert_many(assignments)\n"
   ]
  },
  {
   "cell_type": "code",
   "execution_count": 96,
   "id": "35a7b5ac",
   "metadata": {},
   "outputs": [
    {
     "data": {
      "text/plain": [
       "InsertManyResult([ObjectId('6848127bc419e2efd265df22'), ObjectId('6848127bc419e2efd265df23'), ObjectId('6848127bc419e2efd265df24'), ObjectId('6848127bc419e2efd265df25'), ObjectId('6848127bc419e2efd265df26'), ObjectId('6848127bc419e2efd265df27'), ObjectId('6848127bc419e2efd265df28'), ObjectId('6848127bc419e2efd265df29'), ObjectId('6848127bc419e2efd265df2a'), ObjectId('6848127bc419e2efd265df2b'), ObjectId('6848127bc419e2efd265df2c'), ObjectId('6848127bc419e2efd265df2d')], acknowledged=True)"
      ]
     },
     "execution_count": 96,
     "metadata": {},
     "output_type": "execute_result"
    }
   ],
   "source": [
    "# Generate 12 assignment submissions by students with grades\n",
    "submissions = []\n",
    "for i in range(12):\n",
    "    assignment = random.choice(assignments)\n",
    "    student = random.choice(students)\n",
    "    submissions.append({\n",
    "        \"submissionId\": f\"s{i+1:03}\",\n",
    "        \"assignmentId\": assignment[\"assignmentId\"],\n",
    "        \"studentId\": student[\"userId\"],\n",
    "        \"submittedAt\": datetime.now() - timedelta(days=random.randint(0, 10)),\n",
    "        \"content\": fake.text(),\n",
    "        \"grade\": round(random.uniform(0, 100), 2)\n",
    "    })\n",
    "\n",
    "db.submissions.insert_many(submissions)\n"
   ]
  },
  {
   "cell_type": "markdown",
   "id": "a8feb3ae",
   "metadata": {},
   "source": [
    "## Part 3: Basic CRUD Operations"
   ]
  },
  {
   "cell_type": "markdown",
   "id": "64671808",
   "metadata": {},
   "source": [
    "### Task 3.1: Create Operations"
   ]
  },
  {
   "cell_type": "code",
   "execution_count": 97,
   "id": "5a422a07",
   "metadata": {},
   "outputs": [
    {
     "data": {
      "text/plain": [
       "InsertOneResult(ObjectId('6848127bc419e2efd265df2e'), acknowledged=True)"
      ]
     },
     "execution_count": 97,
     "metadata": {},
     "output_type": "execute_result"
    }
   ],
   "source": [
    "# Add a new student user to the 'users' collection\n",
    "new_student = {\n",
    "    \"userId\": \"u026\",  # Ensure this is unique\n",
    "    \"email\": \"newstudent@example.com\",\n",
    "    \"firstName\": \"Alice\",\n",
    "    \"lastName\": \"Johnson\",\n",
    "    \"role\": \"student\",\n",
    "    \"dateJoined\": datetime.now(),\n",
    "    \"profile\": {\n",
    "        \"bio\": \"Eager learner of data science.\",\n",
    "        \"avatar\": \"http://example.com/avatar.jpg\",\n",
    "        \"skills\": [\"Python\", \"Statistics\"]\n",
    "    },\n",
    "    \"isActive\": True\n",
    "}\n",
    "\n",
    "db.users.insert_one(new_student)\n"
   ]
  },
  {
   "cell_type": "code",
   "execution_count": 98,
   "id": "a18f3f8b",
   "metadata": {},
   "outputs": [
    {
     "data": {
      "text/plain": [
       "InsertOneResult(ObjectId('6848127cc419e2efd265df2f'), acknowledged=True)"
      ]
     },
     "execution_count": 98,
     "metadata": {},
     "output_type": "execute_result"
    }
   ],
   "source": [
    "# Create a new course in the 'courses' collection\n",
    "new_course = {\n",
    "    \"courseId\": \"c009\",  # Ensure this is unique\n",
    "    \"title\": \"Introduction to AI\",\n",
    "    \"description\": \"Learn the basics of Artificial Intelligence.\",\n",
    "    \"instructorId\": \"u005\",  # Must be an existing instructor userId\n",
    "    \"category\": \"Data Science\",\n",
    "    \"level\": \"beginner\",\n",
    "    \"duration\": 20,\n",
    "    \"price\": 49.99,\n",
    "    \"tags\": [\"AI\", \"Machine Learning\"],\n",
    "    \"createdAt\": datetime.now(),\n",
    "    \"updatedAt\": datetime.now(),\n",
    "    \"isPublished\": False\n",
    "}\n",
    "\n",
    "db.courses.insert_one(new_course)\n"
   ]
  },
  {
   "cell_type": "code",
   "execution_count": 99,
   "id": "228b6fa8",
   "metadata": {},
   "outputs": [
    {
     "data": {
      "text/plain": [
       "InsertOneResult(ObjectId('6848127cc419e2efd265df30'), acknowledged=True)"
      ]
     },
     "execution_count": 99,
     "metadata": {},
     "output_type": "execute_result"
    }
   ],
   "source": [
    "# Enroll a student in a course by adding a document to the 'enrollments' collection\n",
    "new_enrollment = {\n",
    "    \"enrollmentId\": \"e016\",  # Ensure this is unique\n",
    "    \"studentId\": \"u026\",  # New student userId\n",
    "    \"courseId\": \"c009\",  # Newly created courseId\n",
    "    \"enrolledAt\": datetime.now(),\n",
    "    \"progress\": 0.0,\n",
    "    \"completed\": False\n",
    "}\n",
    "\n",
    "db.enrollments.insert_one(new_enrollment)\n"
   ]
  },
  {
   "cell_type": "code",
   "execution_count": 100,
   "id": "ab2ccf85",
   "metadata": {},
   "outputs": [
    {
     "data": {
      "text/plain": [
       "InsertOneResult(ObjectId('6848127cc419e2efd265df31'), acknowledged=True)"
      ]
     },
     "execution_count": 100,
     "metadata": {},
     "output_type": "execute_result"
    }
   ],
   "source": [
    "# Add a new lesson to an existing course in the 'lessons' collection\n",
    "new_lesson = {\n",
    "    \"lessonId\": \"l026\",  # Ensure this is unique\n",
    "    \"courseId\": \"c009\",  # Course to which lesson belongs\n",
    "    \"title\": \"What is Artificial Intelligence?\",\n",
    "    \"content\": \"This lesson covers the definition and history of AI.\",\n",
    "    \"videoUrl\": \"http://example.com/lesson1video.mp4\",\n",
    "    \"duration\": 15.0,  # Duration in minutes\n",
    "    \"order\": 1  # Order within the course lessons\n",
    "}\n",
    "\n",
    "db.lessons.insert_one(new_lesson)\n"
   ]
  },
  {
   "cell_type": "markdown",
   "id": "a47b9965",
   "metadata": {},
   "source": [
    "### Task 3.2: Read Operations"
   ]
  },
  {
   "cell_type": "code",
   "execution_count": 101,
   "id": "113c0868",
   "metadata": {},
   "outputs": [
    {
     "data": {
      "text/plain": [
       "[{'_id': ObjectId('6848127bc419e2efd265ded0'),\n",
       "  'userId': 'u002',\n",
       "  'email': 'owalsh@example.net',\n",
       "  'firstName': 'Katelyn',\n",
       "  'lastName': 'Hawkins',\n",
       "  'role': 'student',\n",
       "  'dateJoined': datetime.datetime(2025, 1, 20, 23, 17, 4),\n",
       "  'profile': {'bio': 'Science level piece financial.',\n",
       "   'avatar': 'https://picsum.photos/158/765',\n",
       "   'skills': ['MongoDB', 'JavaScript']},\n",
       "  'isActive': True},\n",
       " {'_id': ObjectId('6848127bc419e2efd265ded1'),\n",
       "  'userId': 'u003',\n",
       "  'email': 'mcclureamy@example.com',\n",
       "  'firstName': 'Lauren',\n",
       "  'lastName': 'Taylor',\n",
       "  'role': 'student',\n",
       "  'dateJoined': datetime.datetime(2024, 1, 11, 12, 32, 49),\n",
       "  'profile': {'bio': 'School along top her wait teacher.',\n",
       "   'avatar': 'https://picsum.photos/477/304',\n",
       "   'skills': ['SQL', 'MongoDB', 'JavaScript']},\n",
       "  'isActive': True},\n",
       " {'_id': ObjectId('6848127bc419e2efd265ded2'),\n",
       "  'userId': 'u004',\n",
       "  'email': 'coreyhart@example.net',\n",
       "  'firstName': 'Robert',\n",
       "  'lastName': 'Richardson',\n",
       "  'role': 'student',\n",
       "  'dateJoined': datetime.datetime(2024, 7, 10, 2, 21, 6),\n",
       "  'profile': {'bio': 'Be much the group art civil.',\n",
       "   'avatar': 'https://placekitten.com/53/927',\n",
       "   'skills': ['MongoDB', 'JavaScript', 'Data Science']},\n",
       "  'isActive': True},\n",
       " {'_id': ObjectId('6848127bc419e2efd265ded5'),\n",
       "  'userId': 'u007',\n",
       "  'email': 'christopher07@example.org',\n",
       "  'firstName': 'Jacqueline',\n",
       "  'lastName': 'Cox',\n",
       "  'role': 'student',\n",
       "  'dateJoined': datetime.datetime(2024, 10, 6, 9, 59, 36),\n",
       "  'profile': {'bio': 'Above night suffer well book institution last.',\n",
       "   'avatar': 'https://dummyimage.com/502x803',\n",
       "   'skills': ['Machine Learning']},\n",
       "  'isActive': True},\n",
       " {'_id': ObjectId('6848127bc419e2efd265ded7'),\n",
       "  'userId': 'u009',\n",
       "  'email': 'collinspatrick@example.net',\n",
       "  'firstName': 'Kimberly',\n",
       "  'lastName': 'Sims',\n",
       "  'role': 'student',\n",
       "  'dateJoined': datetime.datetime(2024, 5, 11, 5, 1, 5),\n",
       "  'profile': {'bio': 'Big avoid water forward according area.',\n",
       "   'avatar': 'https://dummyimage.com/193x316',\n",
       "   'skills': ['Data Science']},\n",
       "  'isActive': True},\n",
       " {'_id': ObjectId('6848127bc419e2efd265deda'),\n",
       "  'userId': 'u012',\n",
       "  'email': 'johnnysmith@example.net',\n",
       "  'firstName': 'Rebecca',\n",
       "  'lastName': 'Robinson',\n",
       "  'role': 'student',\n",
       "  'dateJoined': datetime.datetime(2025, 2, 3, 21, 3),\n",
       "  'profile': {'bio': 'Smile for off church act entire leg agency.',\n",
       "   'avatar': 'https://picsum.photos/183/316',\n",
       "   'skills': ['JavaScript']},\n",
       "  'isActive': True},\n",
       " {'_id': ObjectId('6848127bc419e2efd265dedc'),\n",
       "  'userId': 'u014',\n",
       "  'email': 'daniel44@example.net',\n",
       "  'firstName': 'Richard',\n",
       "  'lastName': 'Carroll',\n",
       "  'role': 'student',\n",
       "  'dateJoined': datetime.datetime(2025, 1, 1, 18, 44, 8),\n",
       "  'profile': {'bio': 'Edge attack person police.',\n",
       "   'avatar': 'https://picsum.photos/554/217',\n",
       "   'skills': ['Machine Learning', 'SQL', 'Data Science', 'MongoDB']},\n",
       "  'isActive': True},\n",
       " {'_id': ObjectId('6848127bc419e2efd265dede'),\n",
       "  'userId': 'u016',\n",
       "  'email': 'pdecker@example.org',\n",
       "  'firstName': 'Stephanie',\n",
       "  'lastName': 'Williamson',\n",
       "  'role': 'student',\n",
       "  'dateJoined': datetime.datetime(2024, 3, 9, 4, 1, 1),\n",
       "  'profile': {'bio': 'Range character especially.',\n",
       "   'avatar': 'https://placekitten.com/17/482',\n",
       "   'skills': ['Machine Learning']},\n",
       "  'isActive': True},\n",
       " {'_id': ObjectId('6848127bc419e2efd265dedf'),\n",
       "  'userId': 'u017',\n",
       "  'email': 'sbrown@example.net',\n",
       "  'firstName': 'Patricia',\n",
       "  'lastName': 'Simmons',\n",
       "  'role': 'student',\n",
       "  'dateJoined': datetime.datetime(2024, 3, 19, 6, 7, 46),\n",
       "  'profile': {'bio': 'Break fill treat.',\n",
       "   'avatar': 'https://placekitten.com/951/114',\n",
       "   'skills': ['Data Science']},\n",
       "  'isActive': True},\n",
       " {'_id': ObjectId('6848127bc419e2efd265dee0'),\n",
       "  'userId': 'u018',\n",
       "  'email': 'sandraanderson@example.com',\n",
       "  'firstName': 'Emily',\n",
       "  'lastName': 'Williams',\n",
       "  'role': 'student',\n",
       "  'dateJoined': datetime.datetime(2025, 5, 2, 15, 45, 19),\n",
       "  'profile': {'bio': 'These poor military in anyone will million personal.',\n",
       "   'avatar': 'https://dummyimage.com/918x27',\n",
       "   'skills': ['SQL']},\n",
       "  'isActive': True},\n",
       " {'_id': ObjectId('6848127bc419e2efd265dee1'),\n",
       "  'userId': 'u019',\n",
       "  'email': 'tuckerstacey@example.org',\n",
       "  'firstName': 'Michelle',\n",
       "  'lastName': 'Herman',\n",
       "  'role': 'student',\n",
       "  'dateJoined': datetime.datetime(2024, 11, 12, 0, 21, 36),\n",
       "  'profile': {'bio': 'Mother through economy water key.',\n",
       "   'avatar': 'https://dummyimage.com/660x95',\n",
       "   'skills': ['SQL', 'Machine Learning']},\n",
       "  'isActive': True},\n",
       " {'_id': ObjectId('6848127bc419e2efd265dee2'),\n",
       "  'userId': 'u020',\n",
       "  'email': 'yolandaoconnor@example.net',\n",
       "  'firstName': 'Kathleen',\n",
       "  'lastName': 'Gonzalez',\n",
       "  'role': 'student',\n",
       "  'dateJoined': datetime.datetime(2024, 6, 5, 6, 41, 37),\n",
       "  'profile': {'bio': 'Camera already college record not.',\n",
       "   'avatar': 'https://picsum.photos/699/492',\n",
       "   'skills': ['Machine Learning', 'MongoDB', 'JavaScript']},\n",
       "  'isActive': True},\n",
       " {'_id': ObjectId('6848127bc419e2efd265dee7'),\n",
       "  'userId': 'u025',\n",
       "  'email': 'cynthia54@example.org',\n",
       "  'firstName': 'Elizabeth',\n",
       "  'lastName': 'Smith',\n",
       "  'role': 'student',\n",
       "  'dateJoined': datetime.datetime(2025, 3, 26, 3, 16, 17),\n",
       "  'profile': {'bio': 'Peace loss guy system brother.',\n",
       "   'avatar': 'https://placekitten.com/611/471',\n",
       "   'skills': ['MongoDB']},\n",
       "  'isActive': True},\n",
       " {'_id': ObjectId('6848127bc419e2efd265df2e'),\n",
       "  'userId': 'u026',\n",
       "  'email': 'newstudent@example.com',\n",
       "  'firstName': 'Alice',\n",
       "  'lastName': 'Johnson',\n",
       "  'role': 'student',\n",
       "  'dateJoined': datetime.datetime(2025, 6, 10, 12, 9, 47, 936000),\n",
       "  'profile': {'bio': 'Eager learner of data science.',\n",
       "   'avatar': 'http://example.com/avatar.jpg',\n",
       "   'skills': ['Python', 'Statistics']},\n",
       "  'isActive': True}]"
      ]
     },
     "execution_count": 101,
     "metadata": {},
     "output_type": "execute_result"
    }
   ],
   "source": [
    "# Find all active students\n",
    "active_students = list(db.users.find({\n",
    "    \"role\": \"student\",\n",
    "    \"isActive\": True\n",
    "}))\n",
    "\n",
    "active_students\n"
   ]
  },
  {
   "cell_type": "code",
   "execution_count": 102,
   "id": "cc9e1c8f",
   "metadata": {},
   "outputs": [
    {
     "data": {
      "text/plain": [
       "[{'_id': ObjectId('6848127bc419e2efd265dee8'),\n",
       "  'courseId': 'c001',\n",
       "  'title': 'Difference which really.',\n",
       "  'description': 'In fight myself bring race certainly. Car individual similar husband majority expert technology.',\n",
       "  'instructorId': 'u001',\n",
       "  'category': 'Data Science',\n",
       "  'level': 'advanced',\n",
       "  'duration': 38.2,\n",
       "  'price': 47.46,\n",
       "  'tags': ['UX', 'Networks'],\n",
       "  'createdAt': datetime.datetime(2025, 6, 10, 12, 9, 47, 399000),\n",
       "  'updatedAt': datetime.datetime(2025, 6, 10, 12, 9, 47, 399000),\n",
       "  'isPublished': False,\n",
       "  'instructor': {'_id': ObjectId('6848127bc419e2efd265decf'),\n",
       "   'userId': 'u001',\n",
       "   'email': 'ambermcdaniel@example.org',\n",
       "   'firstName': 'Scott',\n",
       "   'lastName': 'Dorsey',\n",
       "   'role': 'instructor',\n",
       "   'dateJoined': datetime.datetime(2024, 3, 14, 19, 55, 58),\n",
       "   'profile': {'bio': 'Clear white cultural article history past.',\n",
       "    'avatar': 'https://placekitten.com/965/725',\n",
       "    'skills': ['JavaScript']},\n",
       "   'isActive': True}},\n",
       " {'_id': ObjectId('6848127bc419e2efd265dee9'),\n",
       "  'courseId': 'c002',\n",
       "  'title': 'Better experience.',\n",
       "  'description': 'Raise fall east crime college majority. Quite also image wonder travel my.',\n",
       "  'instructorId': 'u022',\n",
       "  'category': 'Programming',\n",
       "  'level': 'beginner',\n",
       "  'duration': 19.6,\n",
       "  'price': 74.38,\n",
       "  'tags': ['Networks', 'Python'],\n",
       "  'createdAt': datetime.datetime(2025, 6, 10, 12, 9, 47, 400000),\n",
       "  'updatedAt': datetime.datetime(2025, 6, 10, 12, 9, 47, 400000),\n",
       "  'isPublished': False,\n",
       "  'instructor': {'_id': ObjectId('6848127bc419e2efd265dee4'),\n",
       "   'userId': 'u022',\n",
       "   'email': 'emily34@example.net',\n",
       "   'firstName': 'Shawn',\n",
       "   'lastName': 'Williams',\n",
       "   'role': 'instructor',\n",
       "   'dateJoined': datetime.datetime(2025, 1, 21, 23, 14, 51),\n",
       "   'profile': {'bio': 'Since hold series program security.',\n",
       "    'avatar': 'https://placekitten.com/167/800',\n",
       "    'skills': ['SQL']},\n",
       "   'isActive': True}},\n",
       " {'_id': ObjectId('6848127bc419e2efd265deea'),\n",
       "  'courseId': 'c003',\n",
       "  'title': 'Future away especially.',\n",
       "  'description': 'Every resource already. Worker on whose window industry author.',\n",
       "  'instructorId': 'u023',\n",
       "  'category': 'Design',\n",
       "  'level': 'intermediate',\n",
       "  'duration': 20.0,\n",
       "  'price': 98.11,\n",
       "  'tags': ['Cloud', 'UX'],\n",
       "  'createdAt': datetime.datetime(2025, 6, 10, 12, 9, 47, 400000),\n",
       "  'updatedAt': datetime.datetime(2025, 6, 10, 12, 9, 47, 400000),\n",
       "  'isPublished': False,\n",
       "  'instructor': {'_id': ObjectId('6848127bc419e2efd265dee5'),\n",
       "   'userId': 'u023',\n",
       "   'email': 'griffinheather@example.net',\n",
       "   'firstName': 'Nicole',\n",
       "   'lastName': 'Reed',\n",
       "   'role': 'instructor',\n",
       "   'dateJoined': datetime.datetime(2023, 12, 25, 20, 36, 12),\n",
       "   'profile': {'bio': 'War answer both mission nearly measure car.',\n",
       "    'avatar': 'https://dummyimage.com/507x121',\n",
       "    'skills': ['JavaScript']},\n",
       "   'isActive': True}},\n",
       " {'_id': ObjectId('6848127bc419e2efd265deeb'),\n",
       "  'courseId': 'c004',\n",
       "  'title': 'I wide prove get.',\n",
       "  'description': 'Easy center teacher deal. Different give like always politics culture. They watch trade.',\n",
       "  'instructorId': 'u010',\n",
       "  'category': 'Cybersecurity',\n",
       "  'level': 'intermediate',\n",
       "  'duration': 30.2,\n",
       "  'price': 41.38,\n",
       "  'tags': ['Cloud', 'MongoDB'],\n",
       "  'createdAt': datetime.datetime(2025, 6, 10, 12, 9, 47, 401000),\n",
       "  'updatedAt': datetime.datetime(2025, 6, 10, 12, 9, 47, 401000),\n",
       "  'isPublished': True,\n",
       "  'instructor': {'_id': ObjectId('6848127bc419e2efd265ded8'),\n",
       "   'userId': 'u010',\n",
       "   'email': 'lnelson@example.org',\n",
       "   'firstName': 'Kayla',\n",
       "   'lastName': 'Henderson',\n",
       "   'role': 'instructor',\n",
       "   'dateJoined': datetime.datetime(2024, 5, 10, 0, 20, 51),\n",
       "   'profile': {'bio': 'Brother feeling join and expect.',\n",
       "    'avatar': 'https://dummyimage.com/326x770',\n",
       "    'skills': ['SQL']},\n",
       "   'isActive': True}},\n",
       " {'_id': ObjectId('6848127bc419e2efd265deec'),\n",
       "  'courseId': 'c005',\n",
       "  'title': 'Decade play.',\n",
       "  'description': 'Main kitchen strategy fine enter available program. Hard economy full tell. Actually hospital can factor young likely world. Fall cold visit green.',\n",
       "  'instructorId': 'u022',\n",
       "  'category': 'Programming',\n",
       "  'level': 'intermediate',\n",
       "  'duration': 18.5,\n",
       "  'price': 86.49,\n",
       "  'tags': ['MongoDB', 'Networks'],\n",
       "  'createdAt': datetime.datetime(2025, 6, 10, 12, 9, 47, 402000),\n",
       "  'updatedAt': datetime.datetime(2025, 6, 10, 12, 9, 47, 402000),\n",
       "  'isPublished': True,\n",
       "  'instructor': {'_id': ObjectId('6848127bc419e2efd265dee4'),\n",
       "   'userId': 'u022',\n",
       "   'email': 'emily34@example.net',\n",
       "   'firstName': 'Shawn',\n",
       "   'lastName': 'Williams',\n",
       "   'role': 'instructor',\n",
       "   'dateJoined': datetime.datetime(2025, 1, 21, 23, 14, 51),\n",
       "   'profile': {'bio': 'Since hold series program security.',\n",
       "    'avatar': 'https://placekitten.com/167/800',\n",
       "    'skills': ['SQL']},\n",
       "   'isActive': True}},\n",
       " {'_id': ObjectId('6848127bc419e2efd265deed'),\n",
       "  'courseId': 'c006',\n",
       "  'title': 'Skill along pretty.',\n",
       "  'description': 'Claim often conference soldier seem. Look try professor born study young contain industry. Between explain else peace mother hospital.',\n",
       "  'instructorId': 'u001',\n",
       "  'category': 'Programming',\n",
       "  'level': 'beginner',\n",
       "  'duration': 15.6,\n",
       "  'price': 78.46,\n",
       "  'tags': ['Cloud', 'MongoDB'],\n",
       "  'createdAt': datetime.datetime(2025, 6, 10, 12, 9, 47, 402000),\n",
       "  'updatedAt': datetime.datetime(2025, 6, 10, 12, 9, 47, 402000),\n",
       "  'isPublished': False,\n",
       "  'instructor': {'_id': ObjectId('6848127bc419e2efd265decf'),\n",
       "   'userId': 'u001',\n",
       "   'email': 'ambermcdaniel@example.org',\n",
       "   'firstName': 'Scott',\n",
       "   'lastName': 'Dorsey',\n",
       "   'role': 'instructor',\n",
       "   'dateJoined': datetime.datetime(2024, 3, 14, 19, 55, 58),\n",
       "   'profile': {'bio': 'Clear white cultural article history past.',\n",
       "    'avatar': 'https://placekitten.com/965/725',\n",
       "    'skills': ['JavaScript']},\n",
       "   'isActive': True}},\n",
       " {'_id': ObjectId('6848127bc419e2efd265deee'),\n",
       "  'courseId': 'c007',\n",
       "  'title': 'Sure left.',\n",
       "  'description': 'Box point available Mr.',\n",
       "  'instructorId': 'u008',\n",
       "  'category': 'Data Science',\n",
       "  'level': 'intermediate',\n",
       "  'duration': 19.1,\n",
       "  'price': 87.45,\n",
       "  'tags': ['Cloud', 'UX'],\n",
       "  'createdAt': datetime.datetime(2025, 6, 10, 12, 9, 47, 403000),\n",
       "  'updatedAt': datetime.datetime(2025, 6, 10, 12, 9, 47, 403000),\n",
       "  'isPublished': True,\n",
       "  'instructor': {'_id': ObjectId('6848127bc419e2efd265ded6'),\n",
       "   'userId': 'u008',\n",
       "   'email': 'eerickson@example.net',\n",
       "   'firstName': 'Dawn',\n",
       "   'lastName': 'West',\n",
       "   'role': 'instructor',\n",
       "   'dateJoined': datetime.datetime(2024, 5, 2, 22, 16, 11),\n",
       "   'profile': {'bio': 'End PM trouble anything court return major.',\n",
       "    'avatar': 'https://picsum.photos/256/926',\n",
       "    'skills': ['Data Science']},\n",
       "   'isActive': True}},\n",
       " {'_id': ObjectId('6848127bc419e2efd265deef'),\n",
       "  'courseId': 'c008',\n",
       "  'title': 'With item treatment present soldier.',\n",
       "  'description': 'Yet recently behind close side medical. Enjoy personal lot continue.',\n",
       "  'instructorId': 'u011',\n",
       "  'category': 'Design',\n",
       "  'level': 'beginner',\n",
       "  'duration': 25.6,\n",
       "  'price': 10.73,\n",
       "  'tags': ['MongoDB', 'Python'],\n",
       "  'createdAt': datetime.datetime(2025, 6, 10, 12, 9, 47, 403000),\n",
       "  'updatedAt': datetime.datetime(2025, 6, 10, 12, 9, 47, 403000),\n",
       "  'isPublished': True,\n",
       "  'instructor': {'_id': ObjectId('6848127bc419e2efd265ded9'),\n",
       "   'userId': 'u011',\n",
       "   'email': 'melissaferrell@example.net',\n",
       "   'firstName': 'Audrey',\n",
       "   'lastName': 'Price',\n",
       "   'role': 'instructor',\n",
       "   'dateJoined': datetime.datetime(2023, 9, 24, 4, 22, 16),\n",
       "   'profile': {'bio': 'Industry hope drug manage administration collection return type.',\n",
       "    'avatar': 'https://placekitten.com/172/751',\n",
       "    'skills': ['Machine Learning', 'MongoDB', 'Data Science']},\n",
       "   'isActive': True}},\n",
       " {'_id': ObjectId('6848127cc419e2efd265df2f'),\n",
       "  'courseId': 'c009',\n",
       "  'title': 'Introduction to AI',\n",
       "  'description': 'Learn the basics of Artificial Intelligence.',\n",
       "  'instructorId': 'u005',\n",
       "  'category': 'Data Science',\n",
       "  'level': 'beginner',\n",
       "  'duration': 20,\n",
       "  'price': 49.99,\n",
       "  'tags': ['AI', 'Machine Learning'],\n",
       "  'createdAt': datetime.datetime(2025, 6, 10, 12, 9, 48, 20000),\n",
       "  'updatedAt': datetime.datetime(2025, 6, 10, 12, 9, 48, 20000),\n",
       "  'isPublished': False,\n",
       "  'instructor': {'_id': ObjectId('6848127bc419e2efd265ded3'),\n",
       "   'userId': 'u005',\n",
       "   'email': 'zreynolds@example.com',\n",
       "   'firstName': 'John',\n",
       "   'lastName': 'Long',\n",
       "   'role': 'instructor',\n",
       "   'dateJoined': datetime.datetime(2023, 7, 22, 12, 34, 14),\n",
       "   'profile': {'bio': 'Produce design color particular.',\n",
       "    'avatar': 'https://picsum.photos/44/537',\n",
       "    'skills': ['Python', 'Data Science', 'JavaScript', 'Machine Learning']},\n",
       "   'isActive': True}}]"
      ]
     },
     "execution_count": 102,
     "metadata": {},
     "output_type": "execute_result"
    }
   ],
   "source": [
    "# Retrieve course details with instructor information using aggregation ($lookup)\n",
    "courses_with_instructor = list(db.courses.aggregate([\n",
    "    {\n",
    "        \"$lookup\": {\n",
    "            \"from\": \"users\",\n",
    "            \"localField\": \"instructorId\",\n",
    "            \"foreignField\": \"userId\",\n",
    "            \"as\": \"instructor\"\n",
    "        }\n",
    "    },\n",
    "    {\n",
    "        \"$unwind\": \"$instructor\"\n",
    "    }\n",
    "]))\n",
    "\n",
    "courses_with_instructor"
   ]
  },
  {
   "cell_type": "code",
   "execution_count": 103,
   "id": "3126b570",
   "metadata": {},
   "outputs": [
    {
     "data": {
      "text/plain": [
       "[{'_id': ObjectId('6848127bc419e2efd265dee8'),\n",
       "  'courseId': 'c001',\n",
       "  'title': 'Difference which really.',\n",
       "  'description': 'In fight myself bring race certainly. Car individual similar husband majority expert technology.',\n",
       "  'instructorId': 'u001',\n",
       "  'category': 'Data Science',\n",
       "  'level': 'advanced',\n",
       "  'duration': 38.2,\n",
       "  'price': 47.46,\n",
       "  'tags': ['UX', 'Networks'],\n",
       "  'createdAt': datetime.datetime(2025, 6, 10, 12, 9, 47, 399000),\n",
       "  'updatedAt': datetime.datetime(2025, 6, 10, 12, 9, 47, 399000),\n",
       "  'isPublished': False},\n",
       " {'_id': ObjectId('6848127bc419e2efd265deee'),\n",
       "  'courseId': 'c007',\n",
       "  'title': 'Sure left.',\n",
       "  'description': 'Box point available Mr.',\n",
       "  'instructorId': 'u008',\n",
       "  'category': 'Data Science',\n",
       "  'level': 'intermediate',\n",
       "  'duration': 19.1,\n",
       "  'price': 87.45,\n",
       "  'tags': ['Cloud', 'UX'],\n",
       "  'createdAt': datetime.datetime(2025, 6, 10, 12, 9, 47, 403000),\n",
       "  'updatedAt': datetime.datetime(2025, 6, 10, 12, 9, 47, 403000),\n",
       "  'isPublished': True},\n",
       " {'_id': ObjectId('6848127cc419e2efd265df2f'),\n",
       "  'courseId': 'c009',\n",
       "  'title': 'Introduction to AI',\n",
       "  'description': 'Learn the basics of Artificial Intelligence.',\n",
       "  'instructorId': 'u005',\n",
       "  'category': 'Data Science',\n",
       "  'level': 'beginner',\n",
       "  'duration': 20,\n",
       "  'price': 49.99,\n",
       "  'tags': ['AI', 'Machine Learning'],\n",
       "  'createdAt': datetime.datetime(2025, 6, 10, 12, 9, 48, 20000),\n",
       "  'updatedAt': datetime.datetime(2025, 6, 10, 12, 9, 48, 20000),\n",
       "  'isPublished': False}]"
      ]
     },
     "execution_count": 103,
     "metadata": {},
     "output_type": "execute_result"
    }
   ],
   "source": [
    "# Get all courses in a specific category, e.g. 'Data Science'\n",
    "category_courses = list(db.courses.find({\n",
    "    \"category\": \"Data Science\"\n",
    "}))\n",
    "\n",
    "category_courses"
   ]
  },
  {
   "cell_type": "code",
   "execution_count": 104,
   "id": "827698c3",
   "metadata": {},
   "outputs": [
    {
     "data": {
      "text/plain": [
       "[{'student': {'userId': 'u025',\n",
       "   'email': 'cynthia54@example.org',\n",
       "   'firstName': 'Elizabeth',\n",
       "   'lastName': 'Smith'}}]"
      ]
     },
     "execution_count": 104,
     "metadata": {},
     "output_type": "execute_result"
    }
   ],
   "source": [
    "# Find students enrolled in a particular course, e.g. courseId = 'c001'\n",
    "enrolled_students = list(db.enrollments.aggregate([\n",
    "    {\n",
    "        \"$match\": {\"courseId\": \"c001\"}\n",
    "    },\n",
    "    {\n",
    "        \"$lookup\": {\n",
    "            \"from\": \"users\",\n",
    "            \"localField\": \"studentId\",\n",
    "            \"foreignField\": \"userId\",\n",
    "            \"as\": \"student\"\n",
    "        }\n",
    "    },\n",
    "    {\n",
    "        \"$unwind\": \"$student\"\n",
    "    },\n",
    "    {\n",
    "        \"$project\": {\n",
    "            \"_id\": 0,\n",
    "            \"student.userId\": 1,\n",
    "            \"student.firstName\": 1,\n",
    "            \"student.lastName\": 1,\n",
    "            \"student.email\": 1\n",
    "        }\n",
    "    }\n",
    "]))\n",
    "\n",
    "enrolled_students"
   ]
  },
  {
   "cell_type": "code",
   "execution_count": 105,
   "id": "f7db75dc",
   "metadata": {},
   "outputs": [
    {
     "data": {
      "text/plain": [
       "[{'_id': ObjectId('6848127cc419e2efd265df2f'),\n",
       "  'courseId': 'c009',\n",
       "  'title': 'Introduction to AI',\n",
       "  'description': 'Learn the basics of Artificial Intelligence.',\n",
       "  'instructorId': 'u005',\n",
       "  'category': 'Data Science',\n",
       "  'level': 'beginner',\n",
       "  'duration': 20,\n",
       "  'price': 49.99,\n",
       "  'tags': ['AI', 'Machine Learning'],\n",
       "  'createdAt': datetime.datetime(2025, 6, 10, 12, 9, 48, 20000),\n",
       "  'updatedAt': datetime.datetime(2025, 6, 10, 12, 9, 48, 20000),\n",
       "  'isPublished': False}]"
      ]
     },
     "execution_count": 105,
     "metadata": {},
     "output_type": "execute_result"
    }
   ],
   "source": [
    "# Search courses by title (case-insensitive partial match), e.g. keyword = 'intro'\n",
    "keyword = \"intro\"\n",
    "search_results = list(db.courses.find({\n",
    "    \"title\": {\"$regex\": keyword, \"$options\": \"i\"}\n",
    "}))\n",
    "\n",
    "search_results\n"
   ]
  },
  {
   "cell_type": "markdown",
   "id": "e69b421b",
   "metadata": {},
   "source": [
    "### Task 3.3: Update Operations"
   ]
  },
  {
   "cell_type": "code",
   "execution_count": 106,
   "id": "65956d1a",
   "metadata": {},
   "outputs": [
    {
     "data": {
      "text/plain": [
       "UpdateResult({'n': 1, 'nModified': 1, 'ok': 1.0, 'updatedExisting': True}, acknowledged=True)"
      ]
     },
     "execution_count": 106,
     "metadata": {},
     "output_type": "execute_result"
    }
   ],
   "source": [
    "# Update a user's profile information by userId\n",
    "db.users.update_one(\n",
    "    {\"userId\": \"u023\"},  # Target user\n",
    "    {\n",
    "        \"$set\": {\n",
    "            \"profile.bio\": \"Passionate about AI and data science.\",\n",
    "            \"profile.avatar\": \"http://example.com/new_avatar.jpg\",\n",
    "            \"profile.skills\": [\"Python\", \"Machine Learning\", \"Data Analysis\"]\n",
    "        }\n",
    "    }\n",
    ")\n"
   ]
  },
  {
   "cell_type": "code",
   "execution_count": 107,
   "id": "32f89431",
   "metadata": {},
   "outputs": [
    {
     "data": {
      "text/plain": [
       "UpdateResult({'n': 1, 'nModified': 1, 'ok': 1.0, 'updatedExisting': True}, acknowledged=True)"
      ]
     },
     "execution_count": 107,
     "metadata": {},
     "output_type": "execute_result"
    }
   ],
   "source": [
    "# Mark a course as published by courseId\n",
    "db.courses.update_one(\n",
    "    {\"courseId\": \"c009\"},  # Target course\n",
    "    {\n",
    "        \"$set\": {\n",
    "            \"isPublished\": True,\n",
    "            \"updatedAt\": datetime.now()\n",
    "        }\n",
    "    }\n",
    ")\n"
   ]
  },
  {
   "cell_type": "code",
   "execution_count": 108,
   "id": "30d11d30",
   "metadata": {},
   "outputs": [
    {
     "data": {
      "text/plain": [
       "UpdateResult({'n': 1, 'nModified': 1, 'ok': 1.0, 'updatedExisting': True}, acknowledged=True)"
      ]
     },
     "execution_count": 108,
     "metadata": {},
     "output_type": "execute_result"
    }
   ],
   "source": [
    "# Update assignment grades for a submission by submissionId\n",
    "db.submissions.update_one(\n",
    "    {\"submissionId\": \"s005\"},  # Target submission\n",
    "    {\n",
    "        \"$set\": {\n",
    "            \"grade\": 92,\n",
    "            \"gradedAt\": datetime.now()\n",
    "        }\n",
    "    }\n",
    ")\n"
   ]
  },
  {
   "cell_type": "code",
   "execution_count": 109,
   "id": "1b92420a",
   "metadata": {},
   "outputs": [
    {
     "data": {
      "text/plain": [
       "UpdateResult({'n': 1, 'nModified': 1, 'ok': 1.0, 'updatedExisting': True}, acknowledged=True)"
      ]
     },
     "execution_count": 109,
     "metadata": {},
     "output_type": "execute_result"
    }
   ],
   "source": [
    "# Add tags to an existing course by courseId, appending without duplicates\n",
    "db.courses.update_one(\n",
    "    {\"courseId\": \"c009\"},\n",
    "    {\n",
    "        \"$addToSet\": {\n",
    "            \"tags\": {\"$each\": [\"Deep Learning\", \"Neural Networks\"]}\n",
    "        }\n",
    "    }\n",
    ")\n"
   ]
  },
  {
   "cell_type": "markdown",
   "id": "d78d11bf",
   "metadata": {},
   "source": [
    "### Task 3.4: Delete Operations"
   ]
  },
  {
   "cell_type": "code",
   "execution_count": 110,
   "id": "95837c2f",
   "metadata": {},
   "outputs": [
    {
     "data": {
      "text/plain": [
       "UpdateResult({'n': 1, 'nModified': 1, 'ok': 1.0, 'updatedExisting': True}, acknowledged=True)"
      ]
     },
     "execution_count": 110,
     "metadata": {},
     "output_type": "execute_result"
    }
   ],
   "source": [
    "# Soft delete a user by setting 'isActive' to False using userId\n",
    "db.users.update_one(\n",
    "    {\"userId\": \"u024\"},\n",
    "    {\n",
    "        \"$set\": {\"isActive\": False}\n",
    "    }\n",
    ")\n"
   ]
  },
  {
   "cell_type": "code",
   "execution_count": 111,
   "id": "1c75da12",
   "metadata": {},
   "outputs": [
    {
     "data": {
      "text/plain": [
       "DeleteResult({'n': 1, 'ok': 1.0}, acknowledged=True)"
      ]
     },
     "execution_count": 111,
     "metadata": {},
     "output_type": "execute_result"
    }
   ],
   "source": [
    "# Delete an enrollment by enrollmentId\n",
    "db.enrollments.delete_one(\n",
    "    {\"enrollmentId\": \"e016\"}\n",
    ")\n"
   ]
  },
  {
   "cell_type": "code",
   "execution_count": 112,
   "id": "41917cf5",
   "metadata": {},
   "outputs": [
    {
     "data": {
      "text/plain": [
       "DeleteResult({'n': 1, 'ok': 1.0}, acknowledged=True)"
      ]
     },
     "execution_count": 112,
     "metadata": {},
     "output_type": "execute_result"
    }
   ],
   "source": [
    "# Remove a lesson from a course by lessonId\n",
    "db.lessons.delete_one(\n",
    "    {\"lessonId\": \"l026\"}\n",
    ")\n"
   ]
  },
  {
   "cell_type": "markdown",
   "id": "930fa1a6",
   "metadata": {},
   "source": [
    "## Part 4: Advanced Queries and Aggregation"
   ]
  },
  {
   "cell_type": "markdown",
   "id": "509418f2",
   "metadata": {},
   "source": [
    "### Task 4.1: Complex Queries"
   ]
  },
  {
   "cell_type": "code",
   "execution_count": 113,
   "id": "6ea318d8",
   "metadata": {},
   "outputs": [
    {
     "data": {
      "text/plain": [
       "[{'_id': ObjectId('6848127bc419e2efd265dee9'),\n",
       "  'courseId': 'c002',\n",
       "  'title': 'Better experience.',\n",
       "  'description': 'Raise fall east crime college majority. Quite also image wonder travel my.',\n",
       "  'instructorId': 'u022',\n",
       "  'category': 'Programming',\n",
       "  'level': 'beginner',\n",
       "  'duration': 19.6,\n",
       "  'price': 74.38,\n",
       "  'tags': ['Networks', 'Python'],\n",
       "  'createdAt': datetime.datetime(2025, 6, 10, 12, 9, 47, 400000),\n",
       "  'updatedAt': datetime.datetime(2025, 6, 10, 12, 9, 47, 400000),\n",
       "  'isPublished': False},\n",
       " {'_id': ObjectId('6848127bc419e2efd265deea'),\n",
       "  'courseId': 'c003',\n",
       "  'title': 'Future away especially.',\n",
       "  'description': 'Every resource already. Worker on whose window industry author.',\n",
       "  'instructorId': 'u023',\n",
       "  'category': 'Design',\n",
       "  'level': 'intermediate',\n",
       "  'duration': 20.0,\n",
       "  'price': 98.11,\n",
       "  'tags': ['Cloud', 'UX'],\n",
       "  'createdAt': datetime.datetime(2025, 6, 10, 12, 9, 47, 400000),\n",
       "  'updatedAt': datetime.datetime(2025, 6, 10, 12, 9, 47, 400000),\n",
       "  'isPublished': False},\n",
       " {'_id': ObjectId('6848127bc419e2efd265deec'),\n",
       "  'courseId': 'c005',\n",
       "  'title': 'Decade play.',\n",
       "  'description': 'Main kitchen strategy fine enter available program. Hard economy full tell. Actually hospital can factor young likely world. Fall cold visit green.',\n",
       "  'instructorId': 'u022',\n",
       "  'category': 'Programming',\n",
       "  'level': 'intermediate',\n",
       "  'duration': 18.5,\n",
       "  'price': 86.49,\n",
       "  'tags': ['MongoDB', 'Networks'],\n",
       "  'createdAt': datetime.datetime(2025, 6, 10, 12, 9, 47, 402000),\n",
       "  'updatedAt': datetime.datetime(2025, 6, 10, 12, 9, 47, 402000),\n",
       "  'isPublished': True},\n",
       " {'_id': ObjectId('6848127bc419e2efd265deed'),\n",
       "  'courseId': 'c006',\n",
       "  'title': 'Skill along pretty.',\n",
       "  'description': 'Claim often conference soldier seem. Look try professor born study young contain industry. Between explain else peace mother hospital.',\n",
       "  'instructorId': 'u001',\n",
       "  'category': 'Programming',\n",
       "  'level': 'beginner',\n",
       "  'duration': 15.6,\n",
       "  'price': 78.46,\n",
       "  'tags': ['Cloud', 'MongoDB'],\n",
       "  'createdAt': datetime.datetime(2025, 6, 10, 12, 9, 47, 402000),\n",
       "  'updatedAt': datetime.datetime(2025, 6, 10, 12, 9, 47, 402000),\n",
       "  'isPublished': False},\n",
       " {'_id': ObjectId('6848127bc419e2efd265deee'),\n",
       "  'courseId': 'c007',\n",
       "  'title': 'Sure left.',\n",
       "  'description': 'Box point available Mr.',\n",
       "  'instructorId': 'u008',\n",
       "  'category': 'Data Science',\n",
       "  'level': 'intermediate',\n",
       "  'duration': 19.1,\n",
       "  'price': 87.45,\n",
       "  'tags': ['Cloud', 'UX'],\n",
       "  'createdAt': datetime.datetime(2025, 6, 10, 12, 9, 47, 403000),\n",
       "  'updatedAt': datetime.datetime(2025, 6, 10, 12, 9, 47, 403000),\n",
       "  'isPublished': True}]"
      ]
     },
     "execution_count": 113,
     "metadata": {},
     "output_type": "execute_result"
    }
   ],
   "source": [
    "# Find courses with price between $50 and $200 using $gte and $lte\n",
    "courses_in_price_range = list(db.courses.find({\n",
    "    \"price\": {\n",
    "        \"$gte\": 50,\n",
    "        \"$lte\": 200\n",
    "    }\n",
    "}))\n",
    "\n",
    "courses_in_price_range"
   ]
  },
  {
   "cell_type": "code",
   "execution_count": 114,
   "id": "861ca3c2",
   "metadata": {},
   "outputs": [
    {
     "data": {
      "text/plain": [
       "[{'_id': ObjectId('6848127bc419e2efd265ded0'),\n",
       "  'userId': 'u002',\n",
       "  'email': 'owalsh@example.net',\n",
       "  'firstName': 'Katelyn',\n",
       "  'lastName': 'Hawkins',\n",
       "  'role': 'student',\n",
       "  'dateJoined': datetime.datetime(2025, 1, 20, 23, 17, 4),\n",
       "  'profile': {'bio': 'Science level piece financial.',\n",
       "   'avatar': 'https://picsum.photos/158/765',\n",
       "   'skills': ['MongoDB', 'JavaScript']},\n",
       "  'isActive': True},\n",
       " {'_id': ObjectId('6848127bc419e2efd265deda'),\n",
       "  'userId': 'u012',\n",
       "  'email': 'johnnysmith@example.net',\n",
       "  'firstName': 'Rebecca',\n",
       "  'lastName': 'Robinson',\n",
       "  'role': 'student',\n",
       "  'dateJoined': datetime.datetime(2025, 2, 3, 21, 3),\n",
       "  'profile': {'bio': 'Smile for off church act entire leg agency.',\n",
       "   'avatar': 'https://picsum.photos/183/316',\n",
       "   'skills': ['JavaScript']},\n",
       "  'isActive': True},\n",
       " {'_id': ObjectId('6848127bc419e2efd265dedc'),\n",
       "  'userId': 'u014',\n",
       "  'email': 'daniel44@example.net',\n",
       "  'firstName': 'Richard',\n",
       "  'lastName': 'Carroll',\n",
       "  'role': 'student',\n",
       "  'dateJoined': datetime.datetime(2025, 1, 1, 18, 44, 8),\n",
       "  'profile': {'bio': 'Edge attack person police.',\n",
       "   'avatar': 'https://picsum.photos/554/217',\n",
       "   'skills': ['Machine Learning', 'SQL', 'Data Science', 'MongoDB']},\n",
       "  'isActive': True},\n",
       " {'_id': ObjectId('6848127bc419e2efd265dee0'),\n",
       "  'userId': 'u018',\n",
       "  'email': 'sandraanderson@example.com',\n",
       "  'firstName': 'Emily',\n",
       "  'lastName': 'Williams',\n",
       "  'role': 'student',\n",
       "  'dateJoined': datetime.datetime(2025, 5, 2, 15, 45, 19),\n",
       "  'profile': {'bio': 'These poor military in anyone will million personal.',\n",
       "   'avatar': 'https://dummyimage.com/918x27',\n",
       "   'skills': ['SQL']},\n",
       "  'isActive': True},\n",
       " {'_id': ObjectId('6848127bc419e2efd265dee4'),\n",
       "  'userId': 'u022',\n",
       "  'email': 'emily34@example.net',\n",
       "  'firstName': 'Shawn',\n",
       "  'lastName': 'Williams',\n",
       "  'role': 'instructor',\n",
       "  'dateJoined': datetime.datetime(2025, 1, 21, 23, 14, 51),\n",
       "  'profile': {'bio': 'Since hold series program security.',\n",
       "   'avatar': 'https://placekitten.com/167/800',\n",
       "   'skills': ['SQL']},\n",
       "  'isActive': True},\n",
       " {'_id': ObjectId('6848127bc419e2efd265dee7'),\n",
       "  'userId': 'u025',\n",
       "  'email': 'cynthia54@example.org',\n",
       "  'firstName': 'Elizabeth',\n",
       "  'lastName': 'Smith',\n",
       "  'role': 'student',\n",
       "  'dateJoined': datetime.datetime(2025, 3, 26, 3, 16, 17),\n",
       "  'profile': {'bio': 'Peace loss guy system brother.',\n",
       "   'avatar': 'https://placekitten.com/611/471',\n",
       "   'skills': ['MongoDB']},\n",
       "  'isActive': True},\n",
       " {'_id': ObjectId('6848127bc419e2efd265df2e'),\n",
       "  'userId': 'u026',\n",
       "  'email': 'newstudent@example.com',\n",
       "  'firstName': 'Alice',\n",
       "  'lastName': 'Johnson',\n",
       "  'role': 'student',\n",
       "  'dateJoined': datetime.datetime(2025, 6, 10, 12, 9, 47, 936000),\n",
       "  'profile': {'bio': 'Eager learner of data science.',\n",
       "   'avatar': 'http://example.com/avatar.jpg',\n",
       "   'skills': ['Python', 'Statistics']},\n",
       "  'isActive': True}]"
      ]
     },
     "execution_count": 114,
     "metadata": {},
     "output_type": "execute_result"
    }
   ],
   "source": [
    "# Get users who joined in the last 6 months using $gte\n",
    "from datetime import datetime, timedelta\n",
    "\n",
    "six_months_ago = datetime.now() - timedelta(days=6 * 30)\n",
    "\n",
    "recent_users = list(db.users.find({\n",
    "    \"dateJoined\": {\"$gte\": six_months_ago}\n",
    "}))\n",
    "\n",
    "recent_users"
   ]
  },
  {
   "cell_type": "code",
   "execution_count": 115,
   "id": "21cde9b3",
   "metadata": {},
   "outputs": [
    {
     "data": {
      "text/plain": [
       "[{'_id': ObjectId('6848127cc419e2efd265df2f'),\n",
       "  'courseId': 'c009',\n",
       "  'title': 'Introduction to AI',\n",
       "  'description': 'Learn the basics of Artificial Intelligence.',\n",
       "  'instructorId': 'u005',\n",
       "  'category': 'Data Science',\n",
       "  'level': 'beginner',\n",
       "  'duration': 20,\n",
       "  'price': 49.99,\n",
       "  'tags': ['AI', 'Machine Learning', 'Deep Learning', 'Neural Networks'],\n",
       "  'createdAt': datetime.datetime(2025, 6, 10, 12, 9, 48, 20000),\n",
       "  'updatedAt': datetime.datetime(2025, 6, 10, 12, 9, 49, 59000),\n",
       "  'isPublished': True}]"
      ]
     },
     "execution_count": 115,
     "metadata": {},
     "output_type": "execute_result"
    }
   ],
   "source": [
    "# Find courses that have specific tags using $in\n",
    "tags_to_search = [\"Machine Learning\", \"Data Science\"]\n",
    "\n",
    "courses_with_tags = list(db.courses.find({\n",
    "    \"tags\": {\"$in\": tags_to_search}\n",
    "}))\n",
    "\n",
    "courses_with_tags"
   ]
  },
  {
   "cell_type": "code",
   "execution_count": 116,
   "id": "b6e65b03",
   "metadata": {},
   "outputs": [
    {
     "data": {
      "text/plain": [
       "[{'_id': ObjectId('6848127bc419e2efd265df18'),\n",
       "  'assignmentId': 'a001',\n",
       "  'courseId': 'c005',\n",
       "  'title': 'Great country from investment region arm difference.',\n",
       "  'description': 'Success table place kid. Ahead reflect unit never feeling within.',\n",
       "  'dueDate': datetime.datetime(2025, 6, 16, 12, 9, 47, 705000)},\n",
       " {'_id': ObjectId('6848127bc419e2efd265df19'),\n",
       "  'assignmentId': 'a002',\n",
       "  'courseId': 'c008',\n",
       "  'title': 'Worker person network focus them personal know.',\n",
       "  'description': 'Off hit student wait experience course practice. Candidate name half news major relate. Stand room follow culture.',\n",
       "  'dueDate': datetime.datetime(2025, 6, 16, 12, 9, 47, 706000)}]"
      ]
     },
     "execution_count": 116,
     "metadata": {},
     "output_type": "execute_result"
    }
   ],
   "source": [
    "# Retrieve assignments with due dates in the next week using $gte and $lte\n",
    "today = datetime.now()\n",
    "one_week_later = today + timedelta(days=7)\n",
    "\n",
    "upcoming_assignments = list(db.assignments.find({\n",
    "    \"dueDate\": {\n",
    "        \"$gte\": today,\n",
    "        \"$lte\": one_week_later\n",
    "    }\n",
    "}))\n",
    "\n",
    "upcoming_assignments"
   ]
  },
  {
   "cell_type": "markdown",
   "id": "12a6730d",
   "metadata": {},
   "source": [
    "### Task 4.2: Aggregation Pipeline"
   ]
  },
  {
   "cell_type": "markdown",
   "id": "d4d43b62",
   "metadata": {},
   "source": [
    "####  1. Course Enrollment Statistics"
   ]
  },
  {
   "cell_type": "code",
   "execution_count": 117,
   "id": "8357e9d0",
   "metadata": {},
   "outputs": [
    {
     "data": {
      "text/plain": [
       "[{'_id': 'Design', 'avgRating': None, 'enrollmentCount': 7},\n",
       " {'_id': 'Programming', 'avgRating': None, 'enrollmentCount': 4},\n",
       " {'_id': 'Data Science', 'avgRating': None, 'enrollmentCount': 3},\n",
       " {'_id': 'Cybersecurity', 'avgRating': None, 'enrollmentCount': 1}]"
      ]
     },
     "execution_count": 117,
     "metadata": {},
     "output_type": "execute_result"
    }
   ],
   "source": [
    "# Calculate average rating and enrollment count per course category\n",
    "pipeline_category_stats = [\n",
    "    {\n",
    "        \"$lookup\": {\n",
    "            \"from\": \"enrollments\",\n",
    "            \"localField\": \"courseId\",\n",
    "            \"foreignField\": \"courseId\",\n",
    "            \"as\": \"enrollments\"\n",
    "        }\n",
    "    },\n",
    "    {\n",
    "        \"$unwind\": {\n",
    "            \"path\": \"$enrollments\",\n",
    "            \"preserveNullAndEmptyArrays\": True  # To still include courses with zero enrollments\n",
    "        }\n",
    "    },\n",
    "    {\n",
    "        \"$group\": {\n",
    "            \"_id\": \"$category\",\n",
    "            \"avgRating\": {\"$avg\": \"$rating\"},  # assumes rating is in the course document\n",
    "            \"enrollmentCount\": {\"$sum\": {\n",
    "                \"$cond\": [{\"$ifNull\": [\"$enrollments._id\", False]}, 1, 0]\n",
    "            }}\n",
    "        }\n",
    "    },\n",
    "    {\n",
    "        \"$sort\": {\"enrollmentCount\": -1}\n",
    "    }\n",
    "]\n",
    "\n",
    "results = list(db.courses.aggregate(pipeline_category_stats))\n",
    "\n",
    "results"
   ]
  },
  {
   "cell_type": "markdown",
   "id": "dfe78f93",
   "metadata": {},
   "source": [
    "#### 2. Student Performance Analysis"
   ]
  },
  {
   "cell_type": "code",
   "execution_count": 118,
   "id": "153a3002",
   "metadata": {},
   "outputs": [
    {
     "data": {
      "text/plain": [
       "[{'_id': 'u007', 'averageGrade': 92.0},\n",
       " {'_id': 'u002', 'averageGrade': 82.455},\n",
       " {'_id': 'u018', 'averageGrade': 76.84},\n",
       " {'_id': 'u025', 'averageGrade': 60.970000000000006},\n",
       " {'_id': 'u004', 'averageGrade': 42.8},\n",
       " {'_id': 'u014', 'averageGrade': 23.71},\n",
       " {'_id': 'u017', 'averageGrade': 9.26}]"
      ]
     },
     "execution_count": 118,
     "metadata": {},
     "output_type": "execute_result"
    }
   ],
   "source": [
    "# 1. Average grade per student\n",
    "pipeline_avg_grade_per_student = [\n",
    "    {\n",
    "        \"$group\": {\n",
    "            \"_id\": \"$studentId\",\n",
    "            \"averageGrade\": {\"$avg\": \"$grade\"}\n",
    "        }\n",
    "    },\n",
    "    {\n",
    "        \"$sort\": {\"averageGrade\": -1}\n",
    "    }\n",
    "]\n",
    "\n",
    "results = list(db.submissions.aggregate(pipeline_avg_grade_per_student))\n",
    "\n",
    "results"
   ]
  },
  {
   "cell_type": "code",
   "execution_count": 119,
   "id": "68911e58",
   "metadata": {},
   "outputs": [
    {
     "data": {
      "text/plain": [
       "[{'_id': 'c003',\n",
       "  'totalStudents': 2,\n",
       "  'completedStudents': 2,\n",
       "  'completionRate': 1.0},\n",
       " {'_id': 'c001',\n",
       "  'totalStudents': 1,\n",
       "  'completedStudents': 1,\n",
       "  'completionRate': 1.0},\n",
       " {'_id': 'c006',\n",
       "  'totalStudents': 2,\n",
       "  'completedStudents': 2,\n",
       "  'completionRate': 1.0},\n",
       " {'_id': 'c005',\n",
       "  'totalStudents': 4,\n",
       "  'completedStudents': 1,\n",
       "  'completionRate': 0.25},\n",
       " {'_id': 'c004',\n",
       "  'totalStudents': 2,\n",
       "  'completedStudents': 0,\n",
       "  'completionRate': 0.0}]"
      ]
     },
     "execution_count": 119,
     "metadata": {},
     "output_type": "execute_result"
    }
   ],
   "source": [
    "# 2. Completion rate by course\n",
    "# Step-by-step logic:\n",
    "# - Join assignments with submissions to see how many assignments each student submitted per course\n",
    "# - Count total assignments per course\n",
    "# - Count how many students submitted ALL assignments for that course\n",
    "\n",
    "pipeline_completion_rate = [\n",
    "    {\n",
    "        \"$lookup\": {\n",
    "            \"from\": \"assignments\",\n",
    "            \"localField\": \"assignmentId\",\n",
    "            \"foreignField\": \"assignmentId\",\n",
    "            \"as\": \"assignment\"\n",
    "        }\n",
    "    },\n",
    "    {\n",
    "        \"$unwind\": \"$assignment\"\n",
    "    },\n",
    "    {\n",
    "        \"$group\": {\n",
    "            \"_id\": {\n",
    "                \"courseId\": \"$assignment.courseId\",\n",
    "                \"studentId\": \"$studentId\"\n",
    "            },\n",
    "            \"submittedCount\": {\"$sum\": 1}\n",
    "        }\n",
    "    },\n",
    "    {\n",
    "        \"$lookup\": {\n",
    "            \"from\": \"assignments\",\n",
    "            \"let\": {\"course_id\": \"$_id.courseId\"},\n",
    "            \"pipeline\": [\n",
    "                {\"$match\": {\"$expr\": {\"$eq\": [\"$courseId\", \"$$course_id\"]}}},\n",
    "                {\"$count\": \"totalAssignments\"}\n",
    "            ],\n",
    "            \"as\": \"assignmentTotal\"\n",
    "        }\n",
    "    },\n",
    "    {\n",
    "        \"$unwind\": \"$assignmentTotal\"\n",
    "    },\n",
    "    {\n",
    "        \"$project\": {\n",
    "            \"courseId\": \"$_id.courseId\",\n",
    "            \"studentId\": \"$_id.studentId\",\n",
    "            \"isComplete\": {\n",
    "                \"$eq\": [\"$submittedCount\", \"$assignmentTotal.totalAssignments\"]\n",
    "            }\n",
    "        }\n",
    "    },\n",
    "    {\n",
    "        \"$group\": {\n",
    "            \"_id\": \"$courseId\",\n",
    "            \"totalStudents\": {\"$sum\": 1},\n",
    "            \"completedStudents\": {\n",
    "                \"$sum\": {\n",
    "                    \"$cond\": [{\"$eq\": [\"$isComplete\", True]}, 1, 0]\n",
    "                }\n",
    "            }\n",
    "        }\n",
    "    },\n",
    "    {\n",
    "        \"$project\": {\n",
    "            \"completionRate\": {\n",
    "                \"$cond\": [\n",
    "                    {\"$eq\": [\"$totalStudents\", 0]},\n",
    "                    0,\n",
    "                    {\"$divide\": [\"$completedStudents\", \"$totalStudents\"]}\n",
    "                ]\n",
    "            },\n",
    "            \"totalStudents\": 1,\n",
    "            \"completedStudents\": 1\n",
    "        }\n",
    "    }\n",
    "]\n",
    "\n",
    "results = list(db.submissions.aggregate(pipeline_completion_rate))\n",
    "\n",
    "results\n"
   ]
  },
  {
   "cell_type": "code",
   "execution_count": 120,
   "id": "b5faf1c2",
   "metadata": {},
   "outputs": [
    {
     "data": {
      "text/plain": [
       "[{'_id': 'u007', 'averageGrade': 92.0},\n",
       " {'_id': 'u002', 'averageGrade': 82.455},\n",
       " {'_id': 'u018', 'averageGrade': 76.84},\n",
       " {'_id': 'u025', 'averageGrade': 60.970000000000006},\n",
       " {'_id': 'u004', 'averageGrade': 42.8}]"
      ]
     },
     "execution_count": 120,
     "metadata": {},
     "output_type": "execute_result"
    }
   ],
   "source": [
    "# 3. Top-performing students (by average grade, top 5)\n",
    "pipeline_top_students = [\n",
    "    {\n",
    "        \"$group\": {\n",
    "            \"_id\": \"$studentId\",\n",
    "            \"averageGrade\": {\"$avg\": \"$grade\"}\n",
    "        }\n",
    "    },\n",
    "    {\n",
    "        \"$sort\": {\"averageGrade\": -1}\n",
    "    },\n",
    "    {\n",
    "        \"$limit\": 5\n",
    "    }\n",
    "]\n",
    "\n",
    "results = list(db.submissions.aggregate(pipeline_top_students))\n",
    "\n",
    "results\n"
   ]
  },
  {
   "cell_type": "markdown",
   "id": "edb6c676",
   "metadata": {},
   "source": [
    "#### 3. Instructor Analytics"
   ]
  },
  {
   "cell_type": "code",
   "execution_count": 121,
   "id": "6c407efa",
   "metadata": {},
   "outputs": [
    {
     "data": {
      "text/plain": [
       "[{'_id': 'u001', 'totalStudents': 2},\n",
       " {'_id': 'u022', 'totalStudents': 2},\n",
       " {'_id': 'u010', 'totalStudents': 1},\n",
       " {'_id': 'u023', 'totalStudents': 3},\n",
       " {'_id': 'u011', 'totalStudents': 3},\n",
       " {'_id': 'u008', 'totalStudents': 1}]"
      ]
     },
     "execution_count": 121,
     "metadata": {},
     "output_type": "execute_result"
    }
   ],
   "source": [
    "# 1. Total students taught by each instructor\n",
    "pipeline_total_students_per_instructor = [\n",
    "    {\n",
    "        \"$lookup\": {\n",
    "            \"from\": \"enrollments\",\n",
    "            \"localField\": \"courseId\",\n",
    "            \"foreignField\": \"courseId\",\n",
    "            \"as\": \"enrollments\"\n",
    "        }\n",
    "    },\n",
    "    {\n",
    "        \"$unwind\": \"$enrollments\"\n",
    "    },\n",
    "    {\n",
    "        \"$group\": {\n",
    "            \"_id\": \"$instructorId\",\n",
    "            \"totalStudents\": {\"$addToSet\": \"$enrollments.studentId\"}\n",
    "        }\n",
    "    },\n",
    "    {\n",
    "        \"$project\": {\n",
    "            \"totalStudents\": {\"$size\": \"$totalStudents\"}\n",
    "        }\n",
    "    }\n",
    "]\n",
    "\n",
    "results = list(db.courses.aggregate(pipeline_total_students_per_instructor))\n",
    "\n",
    "results\n"
   ]
  },
  {
   "cell_type": "code",
   "execution_count": 122,
   "id": "a12518cf",
   "metadata": {},
   "outputs": [
    {
     "data": {
      "text/plain": [
       "[{'_id': 'u001', 'avgRating': None},\n",
       " {'_id': 'u022', 'avgRating': None},\n",
       " {'_id': 'u011', 'avgRating': None},\n",
       " {'_id': 'u005', 'avgRating': None},\n",
       " {'_id': 'u010', 'avgRating': None},\n",
       " {'_id': 'u023', 'avgRating': None},\n",
       " {'_id': 'u008', 'avgRating': None}]"
      ]
     },
     "execution_count": 122,
     "metadata": {},
     "output_type": "execute_result"
    }
   ],
   "source": [
    "# 2. Average course rating per instructor\n",
    "pipeline_avg_rating_per_instructor = [\n",
    "    {\n",
    "        \"$group\": {\n",
    "            \"_id\": \"$instructorId\",\n",
    "            \"avgRating\": {\"$avg\": \"$rating\"}\n",
    "        }\n",
    "    }\n",
    "]\n",
    "\n",
    "results = list(db.courses.aggregate(pipeline_avg_rating_per_instructor))\n",
    "\n",
    "results\n"
   ]
  },
  {
   "cell_type": "code",
   "execution_count": 123,
   "id": "66ca6bd3",
   "metadata": {},
   "outputs": [
    {
     "data": {
      "text/plain": [
       "[{'_id': 'u001', 'totalRevenue': 125.91999999999999},\n",
       " {'_id': 'u022', 'totalRevenue': 247.35999999999999},\n",
       " {'_id': 'u010', 'totalRevenue': 41.38},\n",
       " {'_id': 'u023', 'totalRevenue': 294.33},\n",
       " {'_id': 'u011', 'totalRevenue': 42.92},\n",
       " {'_id': 'u008', 'totalRevenue': 174.9}]"
      ]
     },
     "execution_count": 123,
     "metadata": {},
     "output_type": "execute_result"
    }
   ],
   "source": [
    "# 3. Revenue generated per instructor\n",
    "pipeline_revenue_per_instructor = [\n",
    "    {\n",
    "        \"$lookup\": {\n",
    "            \"from\": \"enrollments\",\n",
    "            \"localField\": \"courseId\",\n",
    "            \"foreignField\": \"courseId\",\n",
    "            \"as\": \"enrollments\"\n",
    "        }\n",
    "    },\n",
    "    {\n",
    "        \"$unwind\": \"$enrollments\"\n",
    "    },\n",
    "    {\n",
    "        \"$group\": {\n",
    "            \"_id\": \"$instructorId\",\n",
    "            \"totalRevenue\": {\"$sum\": \"$price\"}\n",
    "        }\n",
    "    }\n",
    "]\n",
    "\n",
    "results = list(db.courses.aggregate(pipeline_revenue_per_instructor))\n",
    "\n",
    "results\n"
   ]
  },
  {
   "cell_type": "markdown",
   "id": "b667ace0",
   "metadata": {},
   "source": [
    "#### 4. Advanced Analytics"
   ]
  },
  {
   "cell_type": "code",
   "execution_count": 124,
   "id": "9783b19f",
   "metadata": {},
   "outputs": [
    {
     "data": {
      "text/plain": [
       "[{'totalEnrollments': 15, 'month': None}]"
      ]
     },
     "execution_count": 124,
     "metadata": {},
     "output_type": "execute_result"
    }
   ],
   "source": [
    "# 1. Monthly enrollment trends: count total enrollments per month\n",
    "pipeline_monthly_enrollment_trends = [\n",
    "    {\n",
    "        \"$group\": {\n",
    "            \"_id\": {\n",
    "                \"year\": {\"$year\": \"$enrollmentDate\"},\n",
    "                \"month\": {\"$month\": \"$enrollmentDate\"}\n",
    "            },\n",
    "            \"totalEnrollments\": {\"$sum\": 1}\n",
    "        }\n",
    "    },\n",
    "    {\n",
    "        \"$sort\": {\"_id.year\": 1, \"_id.month\": 1}\n",
    "    },\n",
    "    {\n",
    "        \"$project\": {\n",
    "            \"month\": {\n",
    "                \"$concat\": [\n",
    "                    {\"$toString\": \"$_id.year\"}, \"-\",\n",
    "                    {\"$toString\": \"$_id.month\"}\n",
    "                ]\n",
    "            },\n",
    "            \"totalEnrollments\": 1,\n",
    "            \"_id\": 0\n",
    "        }\n",
    "    }\n",
    "]\n",
    "\n",
    "results = list(db.enrollments.aggregate(pipeline_monthly_enrollment_trends))\n",
    "\n",
    "results\n"
   ]
  },
  {
   "cell_type": "code",
   "execution_count": 125,
   "id": "4ed2fa9d",
   "metadata": {},
   "outputs": [
    {
     "data": {
      "text/plain": [
       "[{'_id': 'Design', 'enrollmentCount': 7},\n",
       " {'_id': 'Programming', 'enrollmentCount': 4},\n",
       " {'_id': 'Data Science', 'enrollmentCount': 3},\n",
       " {'_id': 'Cybersecurity', 'enrollmentCount': 1}]"
      ]
     },
     "execution_count": 125,
     "metadata": {},
     "output_type": "execute_result"
    }
   ],
   "source": [
    "# 2. Most popular course categories by enrollment count\n",
    "pipeline_popular_course_categories = [\n",
    "    {\n",
    "        \"$lookup\": {\n",
    "            \"from\": \"courses\",\n",
    "            \"localField\": \"courseId\",\n",
    "            \"foreignField\": \"courseId\",\n",
    "            \"as\": \"course\"\n",
    "        }\n",
    "    },\n",
    "    {\n",
    "        \"$unwind\": \"$course\"\n",
    "    },\n",
    "    {\n",
    "        \"$group\": {\n",
    "            \"_id\": \"$course.category\",\n",
    "            \"enrollmentCount\": {\"$sum\": 1}\n",
    "        }\n",
    "    },\n",
    "    {\n",
    "        \"$sort\": {\"enrollmentCount\": -1}\n",
    "    }\n",
    "]\n",
    "\n",
    "results = list(db.enrollments.aggregate(pipeline_popular_course_categories))\n",
    "\n",
    "results\n"
   ]
  },
  {
   "cell_type": "code",
   "execution_count": 126,
   "id": "f5e70968",
   "metadata": {},
   "outputs": [
    {
     "data": {
      "text/plain": [
       "[{}, {}, {}, {}, {}, {}, {}, {}]"
      ]
     },
     "execution_count": 126,
     "metadata": {},
     "output_type": "execute_result"
    }
   ],
   "source": [
    "# 3. Average progress across all students (engagement metric)\n",
    "pipeline_avg_progress_per_student = [\n",
    "    {\n",
    "        # Group by studentId to get average progress across their courses\n",
    "        \"$group\": {\n",
    "            \"_id\": \"$studentId\",\n",
    "            \"avgProgress\": {\"$avg\": \"$progress\"}\n",
    "        }\n",
    "    },\n",
    "    \n",
    "    {\n",
    "        \"$project\": {\n",
    "            \"_id\": 0,\n",
    "            \"overallAvgProgress\": 1\n",
    "        }\n",
    "    }\n",
    "]\n",
    "\n",
    "results = list(db.enrollments.aggregate(pipeline_avg_progress_per_student))\n",
    "\n",
    "results\n"
   ]
  },
  {
   "cell_type": "markdown",
   "id": "431584f4",
   "metadata": {},
   "source": [
    "## Part 5: Indexing and Performance"
   ]
  },
  {
   "cell_type": "markdown",
   "id": "405c00e8",
   "metadata": {},
   "source": [
    "### Task 5.1: Index Creation"
   ]
  },
  {
   "cell_type": "code",
   "execution_count": 127,
   "id": "3d9f7931",
   "metadata": {},
   "outputs": [
    {
     "data": {
      "text/plain": [
       "'studentId_1_courseId_1'"
      ]
     },
     "execution_count": 127,
     "metadata": {},
     "output_type": "execute_result"
    }
   ],
   "source": [
    "# Create index on 'email' field in 'users' collection for fast user email lookup (unique)\n",
    "db.users.create_index(\"email\", unique=True)\n",
    "\n",
    "# Create compound index on 'title' and 'category' fields in 'courses' collection for efficient course search\n",
    "db.courses.create_index([(\"title\", \"text\"), (\"category\", 1)])\n",
    "\n",
    "# Create index on 'dueDate' field in 'assignments' collection for fast querying assignments by due date\n",
    "db.assignments.create_index(\"dueDate\")\n",
    "\n",
    "# Create compound index on 'studentId' and 'courseId' fields in 'enrollments' collection for quick enrollment queries\n",
    "db.enrollments.create_index([(\"studentId\", 1), (\"courseId\", 1)])\n"
   ]
  },
  {
   "cell_type": "markdown",
   "id": "50246f13",
   "metadata": {},
   "source": [
    "#### Task 5.2: Query Optimization"
   ]
  },
  {
   "cell_type": "code",
   "execution_count": 128,
   "id": "6fd1fccb",
   "metadata": {},
   "outputs": [
    {
     "name": "stdout",
     "output_type": "stream",
     "text": [
      "Query 1 Explain: {'explainVersion': '1', 'queryPlanner': {'namespace': 'eduhub_db.users', 'parsedQuery': {'$and': [{'isActive': {'$eq': True}}, {'role': {'$eq': 'student'}}]}, 'indexFilterSet': False, 'queryHash': 'B22BA539', 'planCacheShapeHash': 'B22BA539', 'planCacheKey': '8307553D', 'optimizationTimeMillis': 0, 'maxIndexedOrSolutionsReached': False, 'maxIndexedAndSolutionsReached': False, 'maxScansToExplodeReached': False, 'prunedSimilarIndexes': False, 'winningPlan': {'isCached': False, 'stage': 'COLLSCAN', 'filter': {'$and': [{'isActive': {'$eq': True}}, {'role': {'$eq': 'student'}}]}, 'direction': 'forward'}, 'rejectedPlans': []}, 'executionStats': {'executionSuccess': True, 'nReturned': 14, 'executionTimeMillis': 0, 'totalKeysExamined': 0, 'totalDocsExamined': 26, 'executionStages': {'isCached': False, 'stage': 'COLLSCAN', 'filter': {'$and': [{'isActive': {'$eq': True}}, {'role': {'$eq': 'student'}}]}, 'nReturned': 14, 'executionTimeMillisEstimate': 0, 'works': 27, 'advanced': 14, 'needTime': 12, 'needYield': 0, 'saveState': 0, 'restoreState': 0, 'isEOF': 1, 'direction': 'forward', 'docsExamined': 26}, 'allPlansExecution': []}, 'queryShapeHash': 'C4C7EB19306AFFB26ACE129B4B278E196732F880F8ED62EC62E5859BDC2357A6', 'command': {'find': 'users', 'filter': {'role': 'student', 'isActive': True}, '$db': 'eduhub_db'}, 'serverInfo': {'host': 'DESKTOP-DLCT5TO', 'port': 27017, 'version': '8.0.8', 'gitVersion': '7f52660c14217ed2c8d3240f823a2291a4fe6abd'}, 'serverParameters': {'internalQueryFacetBufferSizeBytes': 104857600, 'internalQueryFacetMaxOutputDocSizeBytes': 104857600, 'internalLookupStageIntermediateDocumentMaxSizeBytes': 104857600, 'internalDocumentSourceGroupMaxMemoryBytes': 104857600, 'internalQueryMaxBlockingSortMemoryUsageBytes': 104857600, 'internalQueryProhibitBlockingMergeOnMongoS': 0, 'internalQueryMaxAddToSetBytes': 104857600, 'internalDocumentSourceSetWindowFieldsMaxMemoryBytes': 104857600, 'internalQueryFrameworkControl': 'trySbeRestricted', 'internalQueryPlannerIgnoreIndexWithCollationForRegex': 1}, 'ok': 1.0}\n",
      "Query 2 Explain: {'explainVersion': '1', 'queryPlanner': {'namespace': 'eduhub_db.courses', 'parsedQuery': {'$and': [{'category': {'$eq': 'programming'}}, {'$text': {'$search': 'python', '$language': 'english', '$caseSensitive': False, '$diacriticSensitive': False}}]}, 'indexFilterSet': False, 'queryHash': '3563991E', 'planCacheShapeHash': '3563991E', 'planCacheKey': '25C1406A', 'optimizationTimeMillis': 0, 'maxIndexedOrSolutionsReached': False, 'maxIndexedAndSolutionsReached': False, 'maxScansToExplodeReached': False, 'prunedSimilarIndexes': False, 'winningPlan': {'isCached': False, 'stage': 'TEXT_MATCH', 'indexPrefix': {}, 'indexName': 'title_text_category_1', 'parsedTextQuery': {'terms': ['python'], 'negatedTerms': [], 'phrases': [], 'negatedPhrases': []}, 'textIndexVersion': 3, 'inputStage': {'stage': 'FETCH', 'inputStage': {'stage': 'IXSCAN', 'filter': {'category': {'$eq': 'programming'}}, 'keyPattern': {'_fts': 'text', '_ftsx': 1, 'category': 1}, 'indexName': 'title_text_category_1', 'isMultiKey': True, 'isUnique': False, 'isSparse': False, 'isPartial': False, 'indexVersion': 2, 'direction': 'backward', 'indexBounds': {}}}}, 'rejectedPlans': []}, 'executionStats': {'executionSuccess': True, 'nReturned': 0, 'executionTimeMillis': 47, 'totalKeysExamined': 0, 'totalDocsExamined': 0, 'executionStages': {'isCached': False, 'stage': 'TEXT_MATCH', 'nReturned': 0, 'executionTimeMillisEstimate': 47, 'works': 1, 'advanced': 0, 'needTime': 0, 'needYield': 0, 'saveState': 0, 'restoreState': 0, 'isEOF': 1, 'indexPrefix': {}, 'indexName': 'title_text_category_1', 'parsedTextQuery': {'terms': ['python'], 'negatedTerms': [], 'phrases': [], 'negatedPhrases': []}, 'textIndexVersion': 3, 'docsRejected': 0, 'inputStage': {'stage': 'FETCH', 'nReturned': 0, 'executionTimeMillisEstimate': 47, 'works': 1, 'advanced': 0, 'needTime': 0, 'needYield': 0, 'saveState': 0, 'restoreState': 0, 'isEOF': 1, 'docsExamined': 0, 'alreadyHasObj': 0, 'inputStage': {'stage': 'IXSCAN', 'filter': {'category': {'$eq': 'programming'}}, 'nReturned': 0, 'executionTimeMillisEstimate': 47, 'works': 1, 'advanced': 0, 'needTime': 0, 'needYield': 0, 'saveState': 0, 'restoreState': 0, 'isEOF': 1, 'keyPattern': {'_fts': 'text', '_ftsx': 1, 'category': 1}, 'indexName': 'title_text_category_1', 'isMultiKey': True, 'isUnique': False, 'isSparse': False, 'isPartial': False, 'indexVersion': 2, 'direction': 'backward', 'indexBounds': {}, 'keysExamined': 0, 'seeks': 1, 'dupsTested': 0, 'dupsDropped': 0}}}, 'allPlansExecution': []}, 'queryShapeHash': '8D993720DE7618CCB810BCAF2C37A2178701C9922486C20E2F2357C6655A5D02', 'command': {'find': 'courses', 'filter': {'$text': {'$search': 'python'}, 'category': 'programming'}, '$db': 'eduhub_db'}, 'serverInfo': {'host': 'DESKTOP-DLCT5TO', 'port': 27017, 'version': '8.0.8', 'gitVersion': '7f52660c14217ed2c8d3240f823a2291a4fe6abd'}, 'serverParameters': {'internalQueryFacetBufferSizeBytes': 104857600, 'internalQueryFacetMaxOutputDocSizeBytes': 104857600, 'internalLookupStageIntermediateDocumentMaxSizeBytes': 104857600, 'internalDocumentSourceGroupMaxMemoryBytes': 104857600, 'internalQueryMaxBlockingSortMemoryUsageBytes': 104857600, 'internalQueryProhibitBlockingMergeOnMongoS': 0, 'internalQueryMaxAddToSetBytes': 104857600, 'internalDocumentSourceSetWindowFieldsMaxMemoryBytes': 104857600, 'internalQueryFrameworkControl': 'trySbeRestricted', 'internalQueryPlannerIgnoreIndexWithCollationForRegex': 1}, 'ok': 1.0}\n",
      "Query 3 Explain: {'explainVersion': '1', 'queryPlanner': {'namespace': 'eduhub_db.enrollments', 'parsedQuery': {'$and': [{'courseId': {'$eq': 'course002'}}, {'studentId': {'$eq': 'student001'}}]}, 'indexFilterSet': False, 'queryHash': 'FB06107C', 'planCacheShapeHash': 'FB06107C', 'planCacheKey': 'E6854A60', 'optimizationTimeMillis': 0, 'maxIndexedOrSolutionsReached': False, 'maxIndexedAndSolutionsReached': False, 'maxScansToExplodeReached': False, 'prunedSimilarIndexes': False, 'winningPlan': {'isCached': False, 'stage': 'FETCH', 'inputStage': {'stage': 'IXSCAN', 'keyPattern': {'studentId': 1, 'courseId': 1}, 'indexName': 'studentId_1_courseId_1', 'isMultiKey': False, 'multiKeyPaths': {'studentId': [], 'courseId': []}, 'isUnique': False, 'isSparse': False, 'isPartial': False, 'indexVersion': 2, 'direction': 'forward', 'indexBounds': {'studentId': ['[\"student001\", \"student001\"]'], 'courseId': ['[\"course002\", \"course002\"]']}}}, 'rejectedPlans': []}, 'executionStats': {'executionSuccess': True, 'nReturned': 0, 'executionTimeMillis': 28, 'totalKeysExamined': 0, 'totalDocsExamined': 0, 'executionStages': {'isCached': False, 'stage': 'FETCH', 'nReturned': 0, 'executionTimeMillisEstimate': 28, 'works': 1, 'advanced': 0, 'needTime': 0, 'needYield': 0, 'saveState': 0, 'restoreState': 0, 'isEOF': 1, 'docsExamined': 0, 'alreadyHasObj': 0, 'inputStage': {'stage': 'IXSCAN', 'nReturned': 0, 'executionTimeMillisEstimate': 28, 'works': 1, 'advanced': 0, 'needTime': 0, 'needYield': 0, 'saveState': 0, 'restoreState': 0, 'isEOF': 1, 'keyPattern': {'studentId': 1, 'courseId': 1}, 'indexName': 'studentId_1_courseId_1', 'isMultiKey': False, 'multiKeyPaths': {'studentId': [], 'courseId': []}, 'isUnique': False, 'isSparse': False, 'isPartial': False, 'indexVersion': 2, 'direction': 'forward', 'indexBounds': {'studentId': ['[\"student001\", \"student001\"]'], 'courseId': ['[\"course002\", \"course002\"]']}, 'keysExamined': 0, 'seeks': 1, 'dupsTested': 0, 'dupsDropped': 0}}, 'allPlansExecution': []}, 'queryShapeHash': 'BD0257C61ADBC2D3005B6138137CC1E8B01D6639C1B21CBB858AD1C847893E2E', 'command': {'find': 'enrollments', 'filter': {'studentId': 'student001', 'courseId': 'course002'}, '$db': 'eduhub_db'}, 'serverInfo': {'host': 'DESKTOP-DLCT5TO', 'port': 27017, 'version': '8.0.8', 'gitVersion': '7f52660c14217ed2c8d3240f823a2291a4fe6abd'}, 'serverParameters': {'internalQueryFacetBufferSizeBytes': 104857600, 'internalQueryFacetMaxOutputDocSizeBytes': 104857600, 'internalLookupStageIntermediateDocumentMaxSizeBytes': 104857600, 'internalDocumentSourceGroupMaxMemoryBytes': 104857600, 'internalQueryMaxBlockingSortMemoryUsageBytes': 104857600, 'internalQueryProhibitBlockingMergeOnMongoS': 0, 'internalQueryMaxAddToSetBytes': 104857600, 'internalDocumentSourceSetWindowFieldsMaxMemoryBytes': 104857600, 'internalQueryFrameworkControl': 'trySbeRestricted', 'internalQueryPlannerIgnoreIndexWithCollationForRegex': 1}, 'ok': 1.0}\n"
     ]
    }
   ],
   "source": [
    "import time\n",
    "\n",
    "# Example slow query 1: Find active students by role and isActive\n",
    "query1 = {\"role\": \"student\", \"isActive\": True}\n",
    "\n",
    "# Get query plan using explain()\n",
    "explain_result1 = db.users.find(query1).explain()\n",
    "print(\"Query 1 Explain:\", explain_result1)\n",
    "\n",
    "# Example slow query 2: Search courses by title text search and category filter\n",
    "query2 = {\"$text\": {\"$search\": \"python\"}, \"category\": \"programming\"}\n",
    "\n",
    "explain_result2 = db.courses.find(query2).explain()\n",
    "print(\"Query 2 Explain:\", explain_result2)\n",
    "\n",
    "# Example slow query 3: Get enrollments for a particular student and course\n",
    "query3 = {\"studentId\": \"student001\", \"courseId\": \"course002\"}\n",
    "\n",
    "explain_result3 = db.enrollments.find(query3).explain()\n",
    "print(\"Query 3 Explain:\", explain_result3)\n"
   ]
  },
  {
   "cell_type": "code",
   "execution_count": 129,
   "id": "ca452efb",
   "metadata": {},
   "outputs": [
    {
     "name": "stdout",
     "output_type": "stream",
     "text": [
      "Before optimization - Query1: 0.003010s, Query2: 0.007989s, Query3: 0.016919s\n",
      "After optimization - Query1: 0.012999s, Query2: 0.002004s, Query3: 0.003999s\n"
     ]
    }
   ],
   "source": [
    "def measure_query_time(collection, query):\n",
    "    start = time.time()\n",
    "    list(collection.find(query))\n",
    "    end = time.time()\n",
    "    return end - start\n",
    "\n",
    "# Measure time before index creation (assume no indexes yet)\n",
    "time1_before = measure_query_time(db.users, query1)\n",
    "time2_before = measure_query_time(db.courses, query2)\n",
    "time3_before = measure_query_time(db.enrollments, query3)\n",
    "\n",
    "print(f\"Before optimization - Query1: {time1_before:.6f}s, Query2: {time2_before:.6f}s, Query3: {time3_before:.6f}s\")\n",
    "\n",
    "# Assume indexes from Task 5.1 have been created here\n",
    "\n",
    "# Measure time after index creation\n",
    "time1_after = measure_query_time(db.users, query1)\n",
    "time2_after = measure_query_time(db.courses, query2)\n",
    "time3_after = measure_query_time(db.enrollments, query3)\n",
    "\n",
    "print(f\"After optimization - Query1: {time1_after:.6f}s, Query2: {time2_after:.6f}s, Query3: {time3_after:.6f}s\")\n"
   ]
  },
  {
   "cell_type": "code",
   "execution_count": 130,
   "id": "6062a91d",
   "metadata": {},
   "outputs": [
    {
     "name": "stdout",
     "output_type": "stream",
     "text": [
      "Performance Improvements:\n",
      "Query 1: -0.009990s faster\n",
      "Query 2: 0.005984s faster\n",
      "Query 3: 0.012920s faster\n"
     ]
    }
   ],
   "source": [
    "print(\"Performance Improvements:\")\n",
    "print(f\"Query 1: {(time1_before - time1_after):.6f}s faster\")\n",
    "print(f\"Query 2: {(time2_before - time2_after):.6f}s faster\")\n",
    "print(f\"Query 3: {(time3_before - time3_after):.6f}s faster\")\n"
   ]
  },
  {
   "cell_type": "markdown",
   "id": "a00a47b8",
   "metadata": {},
   "source": [
    "## Task 6: Data Validation and Error Handling"
   ]
  },
  {
   "cell_type": "markdown",
   "id": "6f8befbd",
   "metadata": {},
   "source": [
    "#### Task 6.1: Schema Validation"
   ]
  },
  {
   "cell_type": "code",
   "execution_count": 131,
   "id": "48c5c970",
   "metadata": {},
   "outputs": [
    {
     "data": {
      "text/plain": [
       "{'ok': 1.0}"
      ]
     },
     "execution_count": 131,
     "metadata": {},
     "output_type": "execute_result"
    }
   ],
   "source": [
    "# Define JSON schema validator for 'users' collection\n",
    "user_validator = {\n",
    "    \"$jsonSchema\": {\n",
    "        \"bsonType\": \"object\",\n",
    "        \"required\": [\"userId\", \"email\", \"firstName\", \"lastName\", \"role\", \"dateJoined\", \"isActive\"],\n",
    "        \"properties\": {\n",
    "            \"userId\": {\n",
    "                \"bsonType\": \"string\",\n",
    "                \"description\": \"must be a string and is required\"\n",
    "            },\n",
    "            \"email\": {\n",
    "                \"bsonType\": \"string\",\n",
    "                \"pattern\": r\"^\\S+@\\S+\\.\\S+$\",\n",
    "                \"description\": \"must be a valid email address and is required\"\n",
    "            },\n",
    "            \"firstName\": {\n",
    "                \"bsonType\": \"string\",\n",
    "                \"description\": \"must be a string and is required\"\n",
    "            },\n",
    "            \"lastName\": {\n",
    "                \"bsonType\": \"string\",\n",
    "                \"description\": \"must be a string and is required\"\n",
    "            },\n",
    "            \"role\": {\n",
    "                \"enum\": [\"student\", \"instructor\"],\n",
    "                \"description\": \"can only be one of 'student' or 'instructor' and is required\"\n",
    "            },\n",
    "            \"dateJoined\": {\n",
    "                \"bsonType\": \"date\",\n",
    "                \"description\": \"must be a date and is required\"\n",
    "            },\n",
    "            \"profile\": {\n",
    "                \"bsonType\": \"object\",\n",
    "                \"properties\": {\n",
    "                    \"bio\": {\"bsonType\": \"string\"},\n",
    "                    \"avatar\": {\"bsonType\": \"string\"},\n",
    "                    \"skills\": {\n",
    "                        \"bsonType\": \"array\",\n",
    "                        \"items\": {\"bsonType\": \"string\"}\n",
    "                    }\n",
    "                }\n",
    "            },\n",
    "            \"isActive\": {\n",
    "                \"bsonType\": \"bool\",\n",
    "                \"description\": \"must be a boolean and is required\"\n",
    "            }\n",
    "        }\n",
    "    }\n",
    "}\n",
    "\n",
    "# Apply the validation to 'users' collection (will create or modify collection)\n",
    "db.command({\n",
    "    \"collMod\": \"users\",\n",
    "    \"validator\": user_validator,\n",
    "    \"validationLevel\": \"strict\"\n",
    "})\n"
   ]
  },
  {
   "cell_type": "markdown",
   "id": "3c42a9f5",
   "metadata": {},
   "source": [
    "#### Task 6.2: Error Handling"
   ]
  },
  {
   "cell_type": "code",
   "execution_count": 132,
   "id": "f5a02286",
   "metadata": {},
   "outputs": [
    {
     "name": "stdout",
     "output_type": "stream",
     "text": [
      "Write error: {'index': 0, 'code': 121, 'errmsg': 'Document failed validation', 'errInfo': {'failingDocumentId': ObjectId('68481280c419e2efd265df32'), 'details': {'operatorName': '$jsonSchema', 'schemaRulesNotSatisfied': [{'operatorName': 'properties', 'propertiesNotSatisfied': [{'propertyName': 'profile', 'details': [{'operatorName': 'properties', 'propertiesNotSatisfied': [{'propertyName': 'avatar', 'details': [{'operatorName': 'bsonType', 'specifiedAs': {'bsonType': 'string'}, 'reason': 'type did not match', 'consideredValue': None, 'consideredType': 'null'}]}]}]}]}]}}}\n"
     ]
    }
   ],
   "source": [
    "from pymongo.errors import DuplicateKeyError, WriteError\n",
    "from datetime import datetime\n",
    "\n",
    "# Example: Insert a user with error handling\n",
    "try:\n",
    "    user_doc = {\n",
    "        \"userId\": \"user_001\",\n",
    "        \"email\": \"john.doe@example.com\",\n",
    "        \"firstName\": \"John\",\n",
    "        \"lastName\": \"Doe\",\n",
    "        \"role\": \"student\",\n",
    "        \"dateJoined\": datetime.utcnow(),\n",
    "        \"profile\": {\"bio\": \"Loves learning\", \"avatar\": None, \"skills\": [\"python\", \"mongodb\"]},\n",
    "        \"isActive\": True\n",
    "    }\n",
    "    result = db.users.insert_one(user_doc)\n",
    "    print(f\"User inserted with id: {result.inserted_id}\")\n",
    "\n",
    "except DuplicateKeyError as e:\n",
    "    print(f\"Error: Duplicate key detected - {e.details}\")\n",
    "\n",
    "except WriteError as e:\n",
    "    # This will catch schema validation errors, invalid data types, missing required fields\n",
    "    print(f\"Write error: {e.details}\")\n",
    "\n",
    "except Exception as e:\n",
    "    # General catch-all for unexpected exceptions\n",
    "    print(f\"An unexpected error occurred: {str(e)}\")\n"
   ]
  },
  {
   "cell_type": "code",
   "execution_count": null,
   "id": "0c57e8cf",
   "metadata": {},
   "outputs": [],
   "source": []
  },
  {
   "cell_type": "code",
   "execution_count": null,
   "id": "4641adcd",
   "metadata": {},
   "outputs": [],
   "source": []
  },
  {
   "cell_type": "code",
   "execution_count": null,
   "id": "f6cbfd27",
   "metadata": {},
   "outputs": [],
   "source": []
  },
  {
   "cell_type": "code",
   "execution_count": null,
   "id": "4e6851a9",
   "metadata": {},
   "outputs": [],
   "source": []
  },
  {
   "cell_type": "code",
   "execution_count": null,
   "id": "c0a19eab",
   "metadata": {},
   "outputs": [],
   "source": []
  },
  {
   "cell_type": "code",
   "execution_count": null,
   "id": "413404d5",
   "metadata": {},
   "outputs": [],
   "source": []
  },
  {
   "cell_type": "code",
   "execution_count": null,
   "id": "fa6dbafb",
   "metadata": {},
   "outputs": [],
   "source": []
  },
  {
   "cell_type": "code",
   "execution_count": null,
   "id": "085f6522",
   "metadata": {},
   "outputs": [],
   "source": []
  },
  {
   "cell_type": "code",
   "execution_count": null,
   "id": "a488e722",
   "metadata": {},
   "outputs": [],
   "source": []
  },
  {
   "cell_type": "code",
   "execution_count": null,
   "id": "9f2e6348",
   "metadata": {},
   "outputs": [],
   "source": []
  },
  {
   "cell_type": "code",
   "execution_count": null,
   "id": "14813e69",
   "metadata": {},
   "outputs": [],
   "source": []
  },
  {
   "cell_type": "code",
   "execution_count": null,
   "id": "ee32c2d6",
   "metadata": {},
   "outputs": [],
   "source": []
  },
  {
   "cell_type": "code",
   "execution_count": null,
   "id": "13f48749",
   "metadata": {},
   "outputs": [],
   "source": []
  },
  {
   "cell_type": "code",
   "execution_count": null,
   "id": "75492b01",
   "metadata": {},
   "outputs": [],
   "source": []
  },
  {
   "cell_type": "code",
   "execution_count": null,
   "id": "60f55b1b",
   "metadata": {},
   "outputs": [],
   "source": []
  },
  {
   "cell_type": "code",
   "execution_count": null,
   "id": "021a5d41",
   "metadata": {},
   "outputs": [],
   "source": []
  },
  {
   "cell_type": "code",
   "execution_count": null,
   "id": "88149b79",
   "metadata": {},
   "outputs": [],
   "source": []
  },
  {
   "cell_type": "code",
   "execution_count": null,
   "id": "2779d818",
   "metadata": {},
   "outputs": [],
   "source": []
  },
  {
   "cell_type": "code",
   "execution_count": null,
   "id": "48e2942a",
   "metadata": {},
   "outputs": [],
   "source": []
  },
  {
   "cell_type": "code",
   "execution_count": null,
   "id": "b31e6e48",
   "metadata": {},
   "outputs": [],
   "source": []
  },
  {
   "cell_type": "code",
   "execution_count": null,
   "id": "e4e1f1ff",
   "metadata": {},
   "outputs": [],
   "source": []
  },
  {
   "cell_type": "code",
   "execution_count": null,
   "id": "ba16e00f",
   "metadata": {},
   "outputs": [],
   "source": []
  },
  {
   "cell_type": "code",
   "execution_count": null,
   "id": "c98b4603",
   "metadata": {},
   "outputs": [],
   "source": []
  },
  {
   "cell_type": "code",
   "execution_count": null,
   "id": "e717a112",
   "metadata": {},
   "outputs": [],
   "source": []
  },
  {
   "cell_type": "code",
   "execution_count": null,
   "id": "e9f7f1ae",
   "metadata": {},
   "outputs": [],
   "source": []
  },
  {
   "cell_type": "code",
   "execution_count": null,
   "id": "ef7f6d69",
   "metadata": {},
   "outputs": [],
   "source": []
  },
  {
   "cell_type": "code",
   "execution_count": null,
   "id": "198091c8",
   "metadata": {},
   "outputs": [],
   "source": []
  },
  {
   "cell_type": "code",
   "execution_count": null,
   "id": "6a2d62a8",
   "metadata": {},
   "outputs": [],
   "source": []
  },
  {
   "cell_type": "code",
   "execution_count": null,
   "id": "f01b5fb8",
   "metadata": {},
   "outputs": [],
   "source": []
  },
  {
   "cell_type": "code",
   "execution_count": null,
   "id": "ffe63473",
   "metadata": {},
   "outputs": [],
   "source": []
  },
  {
   "cell_type": "code",
   "execution_count": null,
   "id": "c7752c2e",
   "metadata": {},
   "outputs": [],
   "source": []
  },
  {
   "cell_type": "code",
   "execution_count": null,
   "id": "cb0d6cc1",
   "metadata": {},
   "outputs": [],
   "source": []
  },
  {
   "cell_type": "code",
   "execution_count": null,
   "id": "cfcc9a25",
   "metadata": {},
   "outputs": [],
   "source": []
  },
  {
   "cell_type": "code",
   "execution_count": null,
   "id": "94f6054a",
   "metadata": {},
   "outputs": [],
   "source": []
  },
  {
   "cell_type": "code",
   "execution_count": null,
   "id": "886afb78",
   "metadata": {},
   "outputs": [],
   "source": []
  },
  {
   "cell_type": "code",
   "execution_count": null,
   "id": "edfcaf25",
   "metadata": {},
   "outputs": [],
   "source": []
  },
  {
   "cell_type": "code",
   "execution_count": null,
   "id": "2791f7b6",
   "metadata": {},
   "outputs": [],
   "source": []
  },
  {
   "cell_type": "code",
   "execution_count": null,
   "id": "262c79ab",
   "metadata": {},
   "outputs": [],
   "source": []
  }
 ],
 "metadata": {
  "language_info": {
   "name": "python"
  }
 },
 "nbformat": 4,
 "nbformat_minor": 5
}
